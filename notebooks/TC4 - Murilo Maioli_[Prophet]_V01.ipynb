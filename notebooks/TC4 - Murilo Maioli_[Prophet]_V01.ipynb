{
 "cells": [
  {
   "cell_type": "code",
   "execution_count": null,
   "id": "eafad081",
   "metadata": {},
   "outputs": [],
   "source": [
    "import pandas as pd\n",
    "from prophet import Prophet\n",
    "import numpy as np\n",
    "from sklearn.metrics import mean_absolute_error, mean_squared_error\n",
    "import itertools\n",
    "import matplotlib.pyplot as plt"
   ]
  },
  {
   "cell_type": "code",
   "execution_count": 15,
   "id": "2b819252",
   "metadata": {},
   "outputs": [
    {
     "data": {
      "text/plain": [
       "[    0                                                  1\n",
       " 0 NaN  PreÃ§o por barril do petrÃ³leo bruto Brent (FO...,\n",
       "                                                    0\n",
       " 0  Data  PreÃ§o - petrÃ³leo bruto - Brent (FOB)  ...,\n",
       "                 0                                       1\n",
       " 0            Data  PreÃ§o - petrÃ³leo bruto - Brent (FOB)\n",
       " 1      28/04/2025                                    6613\n",
       " 2      25/04/2025                                    6699\n",
       " 3      24/04/2025                                    6750\n",
       " 4      23/04/2025                                    6826\n",
       " ...           ...                                     ...\n",
       " 11407  26/05/1987                                    1863\n",
       " 11408  25/05/1987                                    1860\n",
       " 11409  22/05/1987                                    1855\n",
       " 11410  21/05/1987                                    1845\n",
       " 11411  20/05/1987                                    1863\n",
       " \n",
       " [11412 rows x 2 columns],\n",
       "       0   1\n",
       " 0  Data NaN,\n",
       "                                         0   1\n",
       " 0  PreÃ§o - petrÃ³leo bruto - Brent (FOB) NaN]"
      ]
     },
     "execution_count": 15,
     "metadata": {},
     "output_type": "execute_result"
    }
   ],
   "source": [
    "df_brent = pd.read_html('http://www.ipeadata.gov.br/ExibeSerie.aspx?module=m&serid=1650971490&oper=view')\n",
    "df_brent"
   ]
  },
  {
   "cell_type": "code",
   "execution_count": 16,
   "id": "d7cb5b22",
   "metadata": {},
   "outputs": [],
   "source": [
    "df_brent = df_brent[2]\n",
    "df_brent = pd.DataFrame(df_brent)"
   ]
  },
  {
   "cell_type": "code",
   "execution_count": 17,
   "id": "139061dc",
   "metadata": {},
   "outputs": [],
   "source": [
    "df_brent.columns = ['Data', 'Preço Brent FOB (US$/barril)']\n",
    "df_brent = df_brent.drop([0, 1])"
   ]
  },
  {
   "cell_type": "code",
   "execution_count": 18,
   "id": "6b99d95b",
   "metadata": {},
   "outputs": [
    {
     "data": {
      "text/html": [
       "<div>\n",
       "<style scoped>\n",
       "    .dataframe tbody tr th:only-of-type {\n",
       "        vertical-align: middle;\n",
       "    }\n",
       "\n",
       "    .dataframe tbody tr th {\n",
       "        vertical-align: top;\n",
       "    }\n",
       "\n",
       "    .dataframe thead th {\n",
       "        text-align: right;\n",
       "    }\n",
       "</style>\n",
       "<table border=\"1\" class=\"dataframe\">\n",
       "  <thead>\n",
       "    <tr style=\"text-align: right;\">\n",
       "      <th></th>\n",
       "      <th>Data</th>\n",
       "      <th>Preço Brent FOB (US$/barril)</th>\n",
       "    </tr>\n",
       "  </thead>\n",
       "  <tbody>\n",
       "    <tr>\n",
       "      <th>2</th>\n",
       "      <td>2025-04-25</td>\n",
       "      <td>6699</td>\n",
       "    </tr>\n",
       "    <tr>\n",
       "      <th>3</th>\n",
       "      <td>2025-04-24</td>\n",
       "      <td>6750</td>\n",
       "    </tr>\n",
       "    <tr>\n",
       "      <th>4</th>\n",
       "      <td>2025-04-23</td>\n",
       "      <td>6826</td>\n",
       "    </tr>\n",
       "    <tr>\n",
       "      <th>5</th>\n",
       "      <td>2025-04-22</td>\n",
       "      <td>6893</td>\n",
       "    </tr>\n",
       "    <tr>\n",
       "      <th>6</th>\n",
       "      <td>2025-04-17</td>\n",
       "      <td>6933</td>\n",
       "    </tr>\n",
       "    <tr>\n",
       "      <th>...</th>\n",
       "      <td>...</td>\n",
       "      <td>...</td>\n",
       "    </tr>\n",
       "    <tr>\n",
       "      <th>11407</th>\n",
       "      <td>1987-05-26</td>\n",
       "      <td>1863</td>\n",
       "    </tr>\n",
       "    <tr>\n",
       "      <th>11408</th>\n",
       "      <td>1987-05-25</td>\n",
       "      <td>1860</td>\n",
       "    </tr>\n",
       "    <tr>\n",
       "      <th>11409</th>\n",
       "      <td>1987-05-22</td>\n",
       "      <td>1855</td>\n",
       "    </tr>\n",
       "    <tr>\n",
       "      <th>11410</th>\n",
       "      <td>1987-05-21</td>\n",
       "      <td>1845</td>\n",
       "    </tr>\n",
       "    <tr>\n",
       "      <th>11411</th>\n",
       "      <td>1987-05-20</td>\n",
       "      <td>1863</td>\n",
       "    </tr>\n",
       "  </tbody>\n",
       "</table>\n",
       "<p>11410 rows × 2 columns</p>\n",
       "</div>"
      ],
      "text/plain": [
       "            Data Preço Brent FOB (US$/barril)\n",
       "2     2025-04-25                         6699\n",
       "3     2025-04-24                         6750\n",
       "4     2025-04-23                         6826\n",
       "5     2025-04-22                         6893\n",
       "6     2025-04-17                         6933\n",
       "...          ...                          ...\n",
       "11407 1987-05-26                         1863\n",
       "11408 1987-05-25                         1860\n",
       "11409 1987-05-22                         1855\n",
       "11410 1987-05-21                         1845\n",
       "11411 1987-05-20                         1863\n",
       "\n",
       "[11410 rows x 2 columns]"
      ]
     },
     "execution_count": 18,
     "metadata": {},
     "output_type": "execute_result"
    }
   ],
   "source": [
    "df_brent['Data'] = pd.to_datetime(df_brent['Data'], format='%d/%m/%Y')\n",
    "df_brent"
   ]
  },
  {
   "cell_type": "code",
   "execution_count": 19,
   "id": "04244781",
   "metadata": {},
   "outputs": [
    {
     "data": {
      "text/html": [
       "<div>\n",
       "<style scoped>\n",
       "    .dataframe tbody tr th:only-of-type {\n",
       "        vertical-align: middle;\n",
       "    }\n",
       "\n",
       "    .dataframe tbody tr th {\n",
       "        vertical-align: top;\n",
       "    }\n",
       "\n",
       "    .dataframe thead th {\n",
       "        text-align: right;\n",
       "    }\n",
       "</style>\n",
       "<table border=\"1\" class=\"dataframe\">\n",
       "  <thead>\n",
       "    <tr style=\"text-align: right;\">\n",
       "      <th></th>\n",
       "      <th>Data</th>\n",
       "      <th>Preço Brent FOB (US$/barril)_Corrigido</th>\n",
       "    </tr>\n",
       "  </thead>\n",
       "  <tbody>\n",
       "    <tr>\n",
       "      <th>2</th>\n",
       "      <td>2025-04-25</td>\n",
       "      <td>66.99</td>\n",
       "    </tr>\n",
       "    <tr>\n",
       "      <th>3</th>\n",
       "      <td>2025-04-24</td>\n",
       "      <td>67.50</td>\n",
       "    </tr>\n",
       "    <tr>\n",
       "      <th>4</th>\n",
       "      <td>2025-04-23</td>\n",
       "      <td>68.26</td>\n",
       "    </tr>\n",
       "    <tr>\n",
       "      <th>5</th>\n",
       "      <td>2025-04-22</td>\n",
       "      <td>68.93</td>\n",
       "    </tr>\n",
       "    <tr>\n",
       "      <th>6</th>\n",
       "      <td>2025-04-17</td>\n",
       "      <td>69.33</td>\n",
       "    </tr>\n",
       "    <tr>\n",
       "      <th>...</th>\n",
       "      <td>...</td>\n",
       "      <td>...</td>\n",
       "    </tr>\n",
       "    <tr>\n",
       "      <th>11407</th>\n",
       "      <td>1987-05-26</td>\n",
       "      <td>18.63</td>\n",
       "    </tr>\n",
       "    <tr>\n",
       "      <th>11408</th>\n",
       "      <td>1987-05-25</td>\n",
       "      <td>18.60</td>\n",
       "    </tr>\n",
       "    <tr>\n",
       "      <th>11409</th>\n",
       "      <td>1987-05-22</td>\n",
       "      <td>18.55</td>\n",
       "    </tr>\n",
       "    <tr>\n",
       "      <th>11410</th>\n",
       "      <td>1987-05-21</td>\n",
       "      <td>18.45</td>\n",
       "    </tr>\n",
       "    <tr>\n",
       "      <th>11411</th>\n",
       "      <td>1987-05-20</td>\n",
       "      <td>18.63</td>\n",
       "    </tr>\n",
       "  </tbody>\n",
       "</table>\n",
       "<p>11410 rows × 2 columns</p>\n",
       "</div>"
      ],
      "text/plain": [
       "            Data  Preço Brent FOB (US$/barril)_Corrigido\n",
       "2     2025-04-25                                   66.99\n",
       "3     2025-04-24                                   67.50\n",
       "4     2025-04-23                                   68.26\n",
       "5     2025-04-22                                   68.93\n",
       "6     2025-04-17                                   69.33\n",
       "...          ...                                     ...\n",
       "11407 1987-05-26                                   18.63\n",
       "11408 1987-05-25                                   18.60\n",
       "11409 1987-05-22                                   18.55\n",
       "11410 1987-05-21                                   18.45\n",
       "11411 1987-05-20                                   18.63\n",
       "\n",
       "[11410 rows x 2 columns]"
      ]
     },
     "execution_count": 19,
     "metadata": {},
     "output_type": "execute_result"
    }
   ],
   "source": [
    "df_brent['Preço Brent FOB (US$/barril)_Corrigido'] = df_brent['Preço Brent FOB (US$/barril)'].apply(lambda x: f\"{str(x)[:-2]}.{str(x)[-2:]}\")\n",
    "df_brent['Preço Brent FOB (US$/barril)_Corrigido'] = df_brent['Preço Brent FOB (US$/barril)_Corrigido'].astype(float)\n",
    "df_brent.drop(columns=['Preço Brent FOB (US$/barril)'], inplace=True)\n",
    "df_brent"
   ]
  },
  {
   "cell_type": "code",
   "execution_count": 20,
   "id": "d3758350",
   "metadata": {},
   "outputs": [
    {
     "data": {
      "text/plain": [
       "<Axes: title={'center': 'Preço Brent FOB (US$/barril)'}, xlabel='Data'>"
      ]
     },
     "execution_count": 20,
     "metadata": {},
     "output_type": "execute_result"
    },
    {
     "data": {
      "image/png": "[encoded data removed]",
      "text/plain": [
       "<Figure size 1000x500 with 1 Axes>"
      ]
     },
     "metadata": {},
     "output_type": "display_data"
    }
   ],
   "source": [
    "df_brent.plot(x='Data', y='Preço Brent FOB (US$/barril)_Corrigido', title='Preço Brent FOB (US$/barril)', figsize=(10, 5), grid=True, legend=False)"
   ]
  },
  {
   "cell_type": "code",
   "execution_count": 21,
   "id": "1ec1f8e3",
   "metadata": {},
   "outputs": [
    {
     "name": "stdout",
     "output_type": "stream",
     "text": [
      "<class 'pandas.core.frame.DataFrame'>\n",
      "RangeIndex: 11410 entries, 2 to 11411\n",
      "Data columns (total 2 columns):\n",
      " #   Column                                  Non-Null Count  Dtype         \n",
      "---  ------                                  --------------  -----         \n",
      " 0   Data                                    11410 non-null  datetime64[ns]\n",
      " 1   Preço Brent FOB (US$/barril)_Corrigido  11410 non-null  float64       \n",
      "dtypes: datetime64[ns](1), float64(1)\n",
      "memory usage: 178.4 KB\n"
     ]
    }
   ],
   "source": [
    "df_brent.info()"
   ]
  },
  {
   "cell_type": "code",
   "execution_count": 22,
   "id": "c70b14c2",
   "metadata": {},
   "outputs": [
    {
     "data": {
      "text/html": [
       "<div>\n",
       "<style scoped>\n",
       "    .dataframe tbody tr th:only-of-type {\n",
       "        vertical-align: middle;\n",
       "    }\n",
       "\n",
       "    .dataframe tbody tr th {\n",
       "        vertical-align: top;\n",
       "    }\n",
       "\n",
       "    .dataframe thead th {\n",
       "        text-align: right;\n",
       "    }\n",
       "</style>\n",
       "<table border=\"1\" class=\"dataframe\">\n",
       "  <thead>\n",
       "    <tr style=\"text-align: right;\">\n",
       "      <th></th>\n",
       "      <th>ds</th>\n",
       "      <th>y</th>\n",
       "    </tr>\n",
       "  </thead>\n",
       "  <tbody>\n",
       "    <tr>\n",
       "      <th>2</th>\n",
       "      <td>2025-04-25</td>\n",
       "      <td>66.99</td>\n",
       "    </tr>\n",
       "    <tr>\n",
       "      <th>3</th>\n",
       "      <td>2025-04-24</td>\n",
       "      <td>67.50</td>\n",
       "    </tr>\n",
       "    <tr>\n",
       "      <th>4</th>\n",
       "      <td>2025-04-23</td>\n",
       "      <td>68.26</td>\n",
       "    </tr>\n",
       "    <tr>\n",
       "      <th>5</th>\n",
       "      <td>2025-04-22</td>\n",
       "      <td>68.93</td>\n",
       "    </tr>\n",
       "    <tr>\n",
       "      <th>6</th>\n",
       "      <td>2025-04-17</td>\n",
       "      <td>69.33</td>\n",
       "    </tr>\n",
       "    <tr>\n",
       "      <th>...</th>\n",
       "      <td>...</td>\n",
       "      <td>...</td>\n",
       "    </tr>\n",
       "    <tr>\n",
       "      <th>11407</th>\n",
       "      <td>1987-05-26</td>\n",
       "      <td>18.63</td>\n",
       "    </tr>\n",
       "    <tr>\n",
       "      <th>11408</th>\n",
       "      <td>1987-05-25</td>\n",
       "      <td>18.60</td>\n",
       "    </tr>\n",
       "    <tr>\n",
       "      <th>11409</th>\n",
       "      <td>1987-05-22</td>\n",
       "      <td>18.55</td>\n",
       "    </tr>\n",
       "    <tr>\n",
       "      <th>11410</th>\n",
       "      <td>1987-05-21</td>\n",
       "      <td>18.45</td>\n",
       "    </tr>\n",
       "    <tr>\n",
       "      <th>11411</th>\n",
       "      <td>1987-05-20</td>\n",
       "      <td>18.63</td>\n",
       "    </tr>\n",
       "  </tbody>\n",
       "</table>\n",
       "<p>11410 rows × 2 columns</p>\n",
       "</div>"
      ],
      "text/plain": [
       "              ds      y\n",
       "2     2025-04-25  66.99\n",
       "3     2025-04-24  67.50\n",
       "4     2025-04-23  68.26\n",
       "5     2025-04-22  68.93\n",
       "6     2025-04-17  69.33\n",
       "...          ...    ...\n",
       "11407 1987-05-26  18.63\n",
       "11408 1987-05-25  18.60\n",
       "11409 1987-05-22  18.55\n",
       "11410 1987-05-21  18.45\n",
       "11411 1987-05-20  18.63\n",
       "\n",
       "[11410 rows x 2 columns]"
      ]
     },
     "execution_count": 22,
     "metadata": {},
     "output_type": "execute_result"
    }
   ],
   "source": [
    "# Criar a previsão utlizando o Prophet\n",
    "\n",
    "# Ajustando a base para o Prophet\n",
    "## De acordo com a documentação da biblioteca, eles precisam de apenas duas colunas a de data (ds) e a do target (y)\n",
    "df_brent_prophet = df_brent.copy()\n",
    "df_brent_prophet.columns = ['ds', 'y']\n",
    "df_brent_prophet\n"
   ]
  },
  {
   "cell_type": "code",
   "execution_count": 23,
   "id": "fbb255fc",
   "metadata": {},
   "outputs": [
    {
     "data": {
      "text/html": [
       "<div>\n",
       "<style scoped>\n",
       "    .dataframe tbody tr th:only-of-type {\n",
       "        vertical-align: middle;\n",
       "    }\n",
       "\n",
       "    .dataframe tbody tr th {\n",
       "        vertical-align: top;\n",
       "    }\n",
       "\n",
       "    .dataframe thead th {\n",
       "        text-align: right;\n",
       "    }\n",
       "</style>\n",
       "<table border=\"1\" class=\"dataframe\">\n",
       "  <thead>\n",
       "    <tr style=\"text-align: right;\">\n",
       "      <th></th>\n",
       "      <th>Data</th>\n",
       "      <th>Preço Brent FOB (US$/barril)_Corrigido</th>\n",
       "    </tr>\n",
       "  </thead>\n",
       "  <tbody>\n",
       "    <tr>\n",
       "      <th>2</th>\n",
       "      <td>2025-04-25</td>\n",
       "      <td>66.99</td>\n",
       "    </tr>\n",
       "    <tr>\n",
       "      <th>3</th>\n",
       "      <td>2025-04-24</td>\n",
       "      <td>67.50</td>\n",
       "    </tr>\n",
       "    <tr>\n",
       "      <th>4</th>\n",
       "      <td>2025-04-23</td>\n",
       "      <td>68.26</td>\n",
       "    </tr>\n",
       "    <tr>\n",
       "      <th>5</th>\n",
       "      <td>2025-04-22</td>\n",
       "      <td>68.93</td>\n",
       "    </tr>\n",
       "    <tr>\n",
       "      <th>6</th>\n",
       "      <td>2025-04-17</td>\n",
       "      <td>69.33</td>\n",
       "    </tr>\n",
       "    <tr>\n",
       "      <th>...</th>\n",
       "      <td>...</td>\n",
       "      <td>...</td>\n",
       "    </tr>\n",
       "    <tr>\n",
       "      <th>11407</th>\n",
       "      <td>1987-05-26</td>\n",
       "      <td>18.63</td>\n",
       "    </tr>\n",
       "    <tr>\n",
       "      <th>11408</th>\n",
       "      <td>1987-05-25</td>\n",
       "      <td>18.60</td>\n",
       "    </tr>\n",
       "    <tr>\n",
       "      <th>11409</th>\n",
       "      <td>1987-05-22</td>\n",
       "      <td>18.55</td>\n",
       "    </tr>\n",
       "    <tr>\n",
       "      <th>11410</th>\n",
       "      <td>1987-05-21</td>\n",
       "      <td>18.45</td>\n",
       "    </tr>\n",
       "    <tr>\n",
       "      <th>11411</th>\n",
       "      <td>1987-05-20</td>\n",
       "      <td>18.63</td>\n",
       "    </tr>\n",
       "  </tbody>\n",
       "</table>\n",
       "<p>11410 rows × 2 columns</p>\n",
       "</div>"
      ],
      "text/plain": [
       "            Data  Preço Brent FOB (US$/barril)_Corrigido\n",
       "2     2025-04-25                                   66.99\n",
       "3     2025-04-24                                   67.50\n",
       "4     2025-04-23                                   68.26\n",
       "5     2025-04-22                                   68.93\n",
       "6     2025-04-17                                   69.33\n",
       "...          ...                                     ...\n",
       "11407 1987-05-26                                   18.63\n",
       "11408 1987-05-25                                   18.60\n",
       "11409 1987-05-22                                   18.55\n",
       "11410 1987-05-21                                   18.45\n",
       "11411 1987-05-20                                   18.63\n",
       "\n",
       "[11410 rows x 2 columns]"
      ]
     },
     "execution_count": 23,
     "metadata": {},
     "output_type": "execute_result"
    }
   ],
   "source": [
    "df_brent"
   ]
  },
  {
   "cell_type": "code",
   "execution_count": 24,
   "id": "5f0d9399",
   "metadata": {},
   "outputs": [
    {
     "name": "stderr",
     "output_type": "stream",
     "text": [
      "16:00:47 - cmdstanpy - INFO - Chain [1] start processing\n",
      "16:00:47 - cmdstanpy - INFO - Chain [1] done processing\n"
     ]
    },
    {
     "data": {
      "text/plain": [
       "<prophet.forecaster.Prophet at 0x1d39e9db9e0>"
      ]
     },
     "execution_count": 24,
     "metadata": {},
     "output_type": "execute_result"
    }
   ],
   "source": [
    "# Treinando o modelo\n",
    "## Importei todos os dados porém não pretendo usar tudo. Por isso, criei uma coluna de ano para alterar o periodo utilizado o quanto\n",
    "## que isso mellhorou a na acuracidade do modelo\n",
    "\n",
    "year = 2022 # A intenção aqui ée que o usuário escolha o ano para treinar o modelo\n",
    "\n",
    "df_brent_prophet['year'] = df_brent_prophet['ds'].dt.year\n",
    "\n",
    "df_prophet_model = Prophet()\n",
    "df_prophet_model.fit(df_brent_prophet.query('year >=' + str(year) + 'and year < 2025'))\n"
   ]
  },
  {
   "cell_type": "code",
   "execution_count": 25,
   "id": "04cccfcd",
   "metadata": {},
   "outputs": [
    {
     "data": {
      "text/html": [
       "<div>\n",
       "<style scoped>\n",
       "    .dataframe tbody tr th:only-of-type {\n",
       "        vertical-align: middle;\n",
       "    }\n",
       "\n",
       "    .dataframe tbody tr th {\n",
       "        vertical-align: top;\n",
       "    }\n",
       "\n",
       "    .dataframe thead th {\n",
       "        text-align: right;\n",
       "    }\n",
       "</style>\n",
       "<table border=\"1\" class=\"dataframe\">\n",
       "  <thead>\n",
       "    <tr style=\"text-align: right;\">\n",
       "      <th></th>\n",
       "      <th>ds</th>\n",
       "      <th>yhat</th>\n",
       "      <th>yhat_lower</th>\n",
       "      <th>yhat_upper</th>\n",
       "      <th>year</th>\n",
       "    </tr>\n",
       "  </thead>\n",
       "  <tbody>\n",
       "    <tr>\n",
       "      <th>0</th>\n",
       "      <td>2022-01-03</td>\n",
       "      <td>84.602645</td>\n",
       "      <td>78.922467</td>\n",
       "      <td>90.310267</td>\n",
       "      <td>2022</td>\n",
       "    </tr>\n",
       "    <tr>\n",
       "      <th>1</th>\n",
       "      <td>2022-01-04</td>\n",
       "      <td>84.640236</td>\n",
       "      <td>78.750618</td>\n",
       "      <td>90.639582</td>\n",
       "      <td>2022</td>\n",
       "    </tr>\n",
       "    <tr>\n",
       "      <th>2</th>\n",
       "      <td>2022-01-05</td>\n",
       "      <td>84.600271</td>\n",
       "      <td>78.714040</td>\n",
       "      <td>90.693377</td>\n",
       "      <td>2022</td>\n",
       "    </tr>\n",
       "    <tr>\n",
       "      <th>3</th>\n",
       "      <td>2022-01-06</td>\n",
       "      <td>84.950038</td>\n",
       "      <td>78.988056</td>\n",
       "      <td>90.661001</td>\n",
       "      <td>2022</td>\n",
       "    </tr>\n",
       "    <tr>\n",
       "      <th>4</th>\n",
       "      <td>2022-01-07</td>\n",
       "      <td>85.592760</td>\n",
       "      <td>80.268832</td>\n",
       "      <td>91.247235</td>\n",
       "      <td>2022</td>\n",
       "    </tr>\n",
       "    <tr>\n",
       "      <th>...</th>\n",
       "      <td>...</td>\n",
       "      <td>...</td>\n",
       "      <td>...</td>\n",
       "      <td>...</td>\n",
       "      <td>...</td>\n",
       "    </tr>\n",
       "    <tr>\n",
       "      <th>845</th>\n",
       "      <td>2025-03-27</td>\n",
       "      <td>79.964449</td>\n",
       "      <td>72.946855</td>\n",
       "      <td>87.399936</td>\n",
       "      <td>2025</td>\n",
       "    </tr>\n",
       "    <tr>\n",
       "      <th>846</th>\n",
       "      <td>2025-03-28</td>\n",
       "      <td>80.396223</td>\n",
       "      <td>72.747130</td>\n",
       "      <td>87.456641</td>\n",
       "      <td>2025</td>\n",
       "    </tr>\n",
       "    <tr>\n",
       "      <th>847</th>\n",
       "      <td>2025-03-29</td>\n",
       "      <td>77.333720</td>\n",
       "      <td>70.549019</td>\n",
       "      <td>83.938014</td>\n",
       "      <td>2025</td>\n",
       "    </tr>\n",
       "    <tr>\n",
       "      <th>848</th>\n",
       "      <td>2025-03-30</td>\n",
       "      <td>72.529859</td>\n",
       "      <td>65.545894</td>\n",
       "      <td>80.032919</td>\n",
       "      <td>2025</td>\n",
       "    </tr>\n",
       "    <tr>\n",
       "      <th>849</th>\n",
       "      <td>2025-03-31</td>\n",
       "      <td>80.608617</td>\n",
       "      <td>73.271512</td>\n",
       "      <td>86.929987</td>\n",
       "      <td>2025</td>\n",
       "    </tr>\n",
       "  </tbody>\n",
       "</table>\n",
       "<p>850 rows × 5 columns</p>\n",
       "</div>"
      ],
      "text/plain": [
       "            ds       yhat  yhat_lower  yhat_upper  year\n",
       "0   2022-01-03  84.602645   78.922467   90.310267  2022\n",
       "1   2022-01-04  84.640236   78.750618   90.639582  2022\n",
       "2   2022-01-05  84.600271   78.714040   90.693377  2022\n",
       "3   2022-01-06  84.950038   78.988056   90.661001  2022\n",
       "4   2022-01-07  85.592760   80.268832   91.247235  2022\n",
       "..         ...        ...         ...         ...   ...\n",
       "845 2025-03-27  79.964449   72.946855   87.399936  2025\n",
       "846 2025-03-28  80.396223   72.747130   87.456641  2025\n",
       "847 2025-03-29  77.333720   70.549019   83.938014  2025\n",
       "848 2025-03-30  72.529859   65.545894   80.032919  2025\n",
       "849 2025-03-31  80.608617   73.271512   86.929987  2025\n",
       "\n",
       "[850 rows x 5 columns]"
      ]
     },
     "execution_count": 25,
     "metadata": {},
     "output_type": "execute_result"
    }
   ],
   "source": [
    "# Criando Forecast\n",
    "## Ao criar a predição com o modelo, escolhi apenas as colunas de 'yhat' (predição), 'yhat_lower' (Menor valor do intervalo de predição) e 'yhat_upper' (Maior valor do\n",
    "## intervalo de predição)\n",
    "\n",
    "\n",
    "df_brent_forecast = df_prophet_model.predict(df_prophet_model.make_future_dataframe(periods=90))\n",
    "df_brent_forecast = df_brent_forecast[['ds', 'yhat', 'yhat_lower', 'yhat_upper']]\n",
    "df_brent_forecast['year'] = df_brent_forecast['ds'].dt.year\n",
    "\n",
    "df_brent_forecast"
   ]
  },
  {
   "cell_type": "code",
   "execution_count": 26,
   "id": "08491d79",
   "metadata": {},
   "outputs": [
    {
     "data": {
      "text/plain": [
       "Text(83.22222222222221, 0.5, 'Brent (US$/barril)')"
      ]
     },
     "execution_count": 26,
     "metadata": {},
     "output_type": "execute_result"
    },
    {
     "data": {
      "image/png": "[encoded data removed]",
      "text/plain": [
       "<Figure size 1000x600 with 1 Axes>"
      ]
     },
     "metadata": {},
     "output_type": "display_data"
    }
   ],
   "source": [
    "# Plotando o gráfico com os dados do brent e a previsão\n",
    "\n",
    "df_brent_forecast_Fig = df_prophet_model.plot(df_brent_forecast)\n",
    "df_brent_forecast_Fig.suptitle('Histórico do preço do brent (US$/barril) e a projeção para os proximos 90 dias', y = 1.02) \n",
    "df_brent_forecast_Fig.gca().set_xlabel('Data') \n",
    "df_brent_forecast_Fig.gca().set_ylabel('Brent (US$/barril)')"
   ]
  },
  {
   "cell_type": "code",
   "execution_count": 30,
   "id": "f27df0a1",
   "metadata": {},
   "outputs": [
    {
     "data": {
      "text/html": [
       "<div>\n",
       "<style scoped>\n",
       "    .dataframe tbody tr th:only-of-type {\n",
       "        vertical-align: middle;\n",
       "    }\n",
       "\n",
       "    .dataframe tbody tr th {\n",
       "        vertical-align: top;\n",
       "    }\n",
       "\n",
       "    .dataframe thead th {\n",
       "        text-align: right;\n",
       "    }\n",
       "</style>\n",
       "<table border=\"1\" class=\"dataframe\">\n",
       "  <thead>\n",
       "    <tr style=\"text-align: right;\">\n",
       "      <th></th>\n",
       "      <th>Data</th>\n",
       "      <th>Preço Brent FOB (US$/barril)_Corrigido</th>\n",
       "      <th>ds</th>\n",
       "      <th>yhat</th>\n",
       "      <th>year</th>\n",
       "    </tr>\n",
       "  </thead>\n",
       "  <tbody>\n",
       "    <tr>\n",
       "      <th>0</th>\n",
       "      <td>2025-04-25</td>\n",
       "      <td>66.99</td>\n",
       "      <td>NaT</td>\n",
       "      <td>NaN</td>\n",
       "      <td>NaN</td>\n",
       "    </tr>\n",
       "    <tr>\n",
       "      <th>1</th>\n",
       "      <td>2025-04-24</td>\n",
       "      <td>67.50</td>\n",
       "      <td>NaT</td>\n",
       "      <td>NaN</td>\n",
       "      <td>NaN</td>\n",
       "    </tr>\n",
       "    <tr>\n",
       "      <th>2</th>\n",
       "      <td>2025-04-23</td>\n",
       "      <td>68.26</td>\n",
       "      <td>NaT</td>\n",
       "      <td>NaN</td>\n",
       "      <td>NaN</td>\n",
       "    </tr>\n",
       "    <tr>\n",
       "      <th>3</th>\n",
       "      <td>2025-04-22</td>\n",
       "      <td>68.93</td>\n",
       "      <td>NaT</td>\n",
       "      <td>NaN</td>\n",
       "      <td>NaN</td>\n",
       "    </tr>\n",
       "    <tr>\n",
       "      <th>4</th>\n",
       "      <td>2025-04-17</td>\n",
       "      <td>69.33</td>\n",
       "      <td>NaT</td>\n",
       "      <td>NaN</td>\n",
       "      <td>NaN</td>\n",
       "    </tr>\n",
       "    <tr>\n",
       "      <th>...</th>\n",
       "      <td>...</td>\n",
       "      <td>...</td>\n",
       "      <td>...</td>\n",
       "      <td>...</td>\n",
       "      <td>...</td>\n",
       "    </tr>\n",
       "    <tr>\n",
       "      <th>11405</th>\n",
       "      <td>1987-05-26</td>\n",
       "      <td>18.63</td>\n",
       "      <td>NaT</td>\n",
       "      <td>NaN</td>\n",
       "      <td>NaN</td>\n",
       "    </tr>\n",
       "    <tr>\n",
       "      <th>11406</th>\n",
       "      <td>1987-05-25</td>\n",
       "      <td>18.60</td>\n",
       "      <td>NaT</td>\n",
       "      <td>NaN</td>\n",
       "      <td>NaN</td>\n",
       "    </tr>\n",
       "    <tr>\n",
       "      <th>11407</th>\n",
       "      <td>1987-05-22</td>\n",
       "      <td>18.55</td>\n",
       "      <td>NaT</td>\n",
       "      <td>NaN</td>\n",
       "      <td>NaN</td>\n",
       "    </tr>\n",
       "    <tr>\n",
       "      <th>11408</th>\n",
       "      <td>1987-05-21</td>\n",
       "      <td>18.45</td>\n",
       "      <td>NaT</td>\n",
       "      <td>NaN</td>\n",
       "      <td>NaN</td>\n",
       "    </tr>\n",
       "    <tr>\n",
       "      <th>11409</th>\n",
       "      <td>1987-05-20</td>\n",
       "      <td>18.63</td>\n",
       "      <td>NaT</td>\n",
       "      <td>NaN</td>\n",
       "      <td>NaN</td>\n",
       "    </tr>\n",
       "  </tbody>\n",
       "</table>\n",
       "<p>11410 rows × 5 columns</p>\n",
       "</div>"
      ],
      "text/plain": [
       "            Data  Preço Brent FOB (US$/barril)_Corrigido  ds  yhat  year\n",
       "0     2025-04-25                                   66.99 NaT   NaN   NaN\n",
       "1     2025-04-24                                   67.50 NaT   NaN   NaN\n",
       "2     2025-04-23                                   68.26 NaT   NaN   NaN\n",
       "3     2025-04-22                                   68.93 NaT   NaN   NaN\n",
       "4     2025-04-17                                   69.33 NaT   NaN   NaN\n",
       "...          ...                                     ...  ..   ...   ...\n",
       "11405 1987-05-26                                   18.63 NaT   NaN   NaN\n",
       "11406 1987-05-25                                   18.60 NaT   NaN   NaN\n",
       "11407 1987-05-22                                   18.55 NaT   NaN   NaN\n",
       "11408 1987-05-21                                   18.45 NaT   NaN   NaN\n",
       "11409 1987-05-20                                   18.63 NaT   NaN   NaN\n",
       "\n",
       "[11410 rows x 5 columns]"
      ]
     },
     "execution_count": 30,
     "metadata": {},
     "output_type": "execute_result"
    }
   ],
   "source": [
    "df_brent_forecast_25\n"
   ]
  },
  {
   "cell_type": "code",
   "execution_count": null,
   "id": "a749a64d",
   "metadata": {},
   "outputs": [
    {
     "data": {
      "text/html": [
       "<div>\n",
       "<style scoped>\n",
       "    .dataframe tbody tr th:only-of-type {\n",
       "        vertical-align: middle;\n",
       "    }\n",
       "\n",
       "    .dataframe tbody tr th {\n",
       "        vertical-align: top;\n",
       "    }\n",
       "\n",
       "    .dataframe thead th {\n",
       "        text-align: right;\n",
       "    }\n",
       "</style>\n",
       "<table border=\"1\" class=\"dataframe\">\n",
       "  <thead>\n",
       "    <tr style=\"text-align: right;\">\n",
       "      <th></th>\n",
       "      <th>Data</th>\n",
       "      <th>Preço Brent FOB (US$/barril)_Corrigido</th>\n",
       "      <th>ds</th>\n",
       "      <th>yhat</th>\n",
       "      <th>year</th>\n",
       "    </tr>\n",
       "  </thead>\n",
       "  <tbody>\n",
       "    <tr>\n",
       "      <th>0</th>\n",
       "      <td>2025-03-31</td>\n",
       "      <td>77.23</td>\n",
       "      <td>2025-03-31</td>\n",
       "      <td>80.608617</td>\n",
       "      <td>2025</td>\n",
       "    </tr>\n",
       "    <tr>\n",
       "      <th>1</th>\n",
       "      <td>2025-03-28</td>\n",
       "      <td>74.69</td>\n",
       "      <td>2025-03-28</td>\n",
       "      <td>80.396223</td>\n",
       "      <td>2025</td>\n",
       "    </tr>\n",
       "    <tr>\n",
       "      <th>2</th>\n",
       "      <td>2025-03-27</td>\n",
       "      <td>74.72</td>\n",
       "      <td>2025-03-27</td>\n",
       "      <td>79.964449</td>\n",
       "      <td>2025</td>\n",
       "    </tr>\n",
       "    <tr>\n",
       "      <th>3</th>\n",
       "      <td>2025-03-26</td>\n",
       "      <td>74.60</td>\n",
       "      <td>2025-03-26</td>\n",
       "      <td>79.824934</td>\n",
       "      <td>2025</td>\n",
       "    </tr>\n",
       "    <tr>\n",
       "      <th>4</th>\n",
       "      <td>2025-03-25</td>\n",
       "      <td>73.78</td>\n",
       "      <td>2025-03-25</td>\n",
       "      <td>80.077152</td>\n",
       "      <td>2025</td>\n",
       "    </tr>\n",
       "    <tr>\n",
       "      <th>...</th>\n",
       "      <td>...</td>\n",
       "      <td>...</td>\n",
       "      <td>...</td>\n",
       "      <td>...</td>\n",
       "      <td>...</td>\n",
       "    </tr>\n",
       "    <tr>\n",
       "      <th>58</th>\n",
       "      <td>2025-01-08</td>\n",
       "      <td>77.37</td>\n",
       "      <td>2025-01-08</td>\n",
       "      <td>70.014620</td>\n",
       "      <td>2025</td>\n",
       "    </tr>\n",
       "    <tr>\n",
       "      <th>59</th>\n",
       "      <td>2025-01-07</td>\n",
       "      <td>77.84</td>\n",
       "      <td>2025-01-07</td>\n",
       "      <td>70.124471</td>\n",
       "      <td>2025</td>\n",
       "    </tr>\n",
       "    <tr>\n",
       "      <th>60</th>\n",
       "      <td>2025-01-06</td>\n",
       "      <td>77.27</td>\n",
       "      <td>2025-01-06</td>\n",
       "      <td>70.161324</td>\n",
       "      <td>2025</td>\n",
       "    </tr>\n",
       "    <tr>\n",
       "      <th>61</th>\n",
       "      <td>2025-01-03</td>\n",
       "      <td>76.72</td>\n",
       "      <td>2025-01-03</td>\n",
       "      <td>70.206429</td>\n",
       "      <td>2025</td>\n",
       "    </tr>\n",
       "    <tr>\n",
       "      <th>62</th>\n",
       "      <td>2025-01-02</td>\n",
       "      <td>76.14</td>\n",
       "      <td>2025-01-02</td>\n",
       "      <td>69.862167</td>\n",
       "      <td>2025</td>\n",
       "    </tr>\n",
       "  </tbody>\n",
       "</table>\n",
       "<p>63 rows × 5 columns</p>\n",
       "</div>"
      ],
      "text/plain": [
       "         Data  Preço Brent FOB (US$/barril)_Corrigido         ds       yhat  \\\n",
       "0  2025-03-31                                   77.23 2025-03-31  80.608617   \n",
       "1  2025-03-28                                   74.69 2025-03-28  80.396223   \n",
       "2  2025-03-27                                   74.72 2025-03-27  79.964449   \n",
       "3  2025-03-26                                   74.60 2025-03-26  79.824934   \n",
       "4  2025-03-25                                   73.78 2025-03-25  80.077152   \n",
       "..        ...                                     ...        ...        ...   \n",
       "58 2025-01-08                                   77.37 2025-01-08  70.014620   \n",
       "59 2025-01-07                                   77.84 2025-01-07  70.124471   \n",
       "60 2025-01-06                                   77.27 2025-01-06  70.161324   \n",
       "61 2025-01-03                                   76.72 2025-01-03  70.206429   \n",
       "62 2025-01-02                                   76.14 2025-01-02  69.862167   \n",
       "\n",
       "    year  \n",
       "0   2025  \n",
       "1   2025  \n",
       "2   2025  \n",
       "3   2025  \n",
       "4   2025  \n",
       "..   ...  \n",
       "58  2025  \n",
       "59  2025  \n",
       "60  2025  \n",
       "61  2025  \n",
       "62  2025  \n",
       "\n",
       "[63 rows x 5 columns]"
      ]
     },
     "execution_count": 31,
     "metadata": {},
     "output_type": "execute_result"
    }
   ],
   "source": [
    "# Adiculando os dados do brent com a previsão\n",
    "## A previsão é feita para 90 dias, então a previsão começa no dia 01/01/2025 e vai até o dia 31/03/2025\n",
    "\n",
    "df_brent_forecast_25 = df_brent_forecast.query('year >= 2025')\n",
    "df_brent_forecast_25 = df_brent_forecast_25.drop(columns=['yhat_lower','yhat_upper'])\n",
    "\n",
    "df_brent_forecast_25 = df_brent.merge(\n",
    "    df_brent_forecast_25,\n",
    "    left_on='Data',\n",
    "    right_on='ds',\n",
    "    how='inner'\n",
    ")\n",
    "df_brent_forecast_25"
   ]
  },
  {
   "cell_type": "code",
   "execution_count": 32,
   "id": "f91282fd",
   "metadata": {},
   "outputs": [],
   "source": [
    "# Removendo as colunas que não são mais necessárias\n",
    "df_brent_forecast_25.drop(columns=['ds'], inplace=True)"
   ]
  },
  {
   "cell_type": "code",
   "execution_count": 33,
   "id": "bd1c3b1a",
   "metadata": {},
   "outputs": [
    {
     "data": {
      "text/html": [
       "<div>\n",
       "<style scoped>\n",
       "    .dataframe tbody tr th:only-of-type {\n",
       "        vertical-align: middle;\n",
       "    }\n",
       "\n",
       "    .dataframe tbody tr th {\n",
       "        vertical-align: top;\n",
       "    }\n",
       "\n",
       "    .dataframe thead th {\n",
       "        text-align: right;\n",
       "    }\n",
       "</style>\n",
       "<table border=\"1\" class=\"dataframe\">\n",
       "  <thead>\n",
       "    <tr style=\"text-align: right;\">\n",
       "      <th></th>\n",
       "      <th>Data</th>\n",
       "      <th>Preço Brent FOB (US$/barril)_Corrigido</th>\n",
       "      <th>yhat</th>\n",
       "      <th>year</th>\n",
       "    </tr>\n",
       "  </thead>\n",
       "  <tbody>\n",
       "    <tr>\n",
       "      <th>0</th>\n",
       "      <td>2025-03-31</td>\n",
       "      <td>77.23</td>\n",
       "      <td>80.608617</td>\n",
       "      <td>2025</td>\n",
       "    </tr>\n",
       "    <tr>\n",
       "      <th>1</th>\n",
       "      <td>2025-03-28</td>\n",
       "      <td>74.69</td>\n",
       "      <td>80.396223</td>\n",
       "      <td>2025</td>\n",
       "    </tr>\n",
       "    <tr>\n",
       "      <th>2</th>\n",
       "      <td>2025-03-27</td>\n",
       "      <td>74.72</td>\n",
       "      <td>79.964449</td>\n",
       "      <td>2025</td>\n",
       "    </tr>\n",
       "    <tr>\n",
       "      <th>3</th>\n",
       "      <td>2025-03-26</td>\n",
       "      <td>74.60</td>\n",
       "      <td>79.824934</td>\n",
       "      <td>2025</td>\n",
       "    </tr>\n",
       "    <tr>\n",
       "      <th>4</th>\n",
       "      <td>2025-03-25</td>\n",
       "      <td>73.78</td>\n",
       "      <td>80.077152</td>\n",
       "      <td>2025</td>\n",
       "    </tr>\n",
       "    <tr>\n",
       "      <th>...</th>\n",
       "      <td>...</td>\n",
       "      <td>...</td>\n",
       "      <td>...</td>\n",
       "      <td>...</td>\n",
       "    </tr>\n",
       "    <tr>\n",
       "      <th>58</th>\n",
       "      <td>2025-01-08</td>\n",
       "      <td>77.37</td>\n",
       "      <td>70.014620</td>\n",
       "      <td>2025</td>\n",
       "    </tr>\n",
       "    <tr>\n",
       "      <th>59</th>\n",
       "      <td>2025-01-07</td>\n",
       "      <td>77.84</td>\n",
       "      <td>70.124471</td>\n",
       "      <td>2025</td>\n",
       "    </tr>\n",
       "    <tr>\n",
       "      <th>60</th>\n",
       "      <td>2025-01-06</td>\n",
       "      <td>77.27</td>\n",
       "      <td>70.161324</td>\n",
       "      <td>2025</td>\n",
       "    </tr>\n",
       "    <tr>\n",
       "      <th>61</th>\n",
       "      <td>2025-01-03</td>\n",
       "      <td>76.72</td>\n",
       "      <td>70.206429</td>\n",
       "      <td>2025</td>\n",
       "    </tr>\n",
       "    <tr>\n",
       "      <th>62</th>\n",
       "      <td>2025-01-02</td>\n",
       "      <td>76.14</td>\n",
       "      <td>69.862167</td>\n",
       "      <td>2025</td>\n",
       "    </tr>\n",
       "  </tbody>\n",
       "</table>\n",
       "<p>63 rows × 4 columns</p>\n",
       "</div>"
      ],
      "text/plain": [
       "         Data  Preço Brent FOB (US$/barril)_Corrigido       yhat  year\n",
       "0  2025-03-31                                   77.23  80.608617  2025\n",
       "1  2025-03-28                                   74.69  80.396223  2025\n",
       "2  2025-03-27                                   74.72  79.964449  2025\n",
       "3  2025-03-26                                   74.60  79.824934  2025\n",
       "4  2025-03-25                                   73.78  80.077152  2025\n",
       "..        ...                                     ...        ...   ...\n",
       "58 2025-01-08                                   77.37  70.014620  2025\n",
       "59 2025-01-07                                   77.84  70.124471  2025\n",
       "60 2025-01-06                                   77.27  70.161324  2025\n",
       "61 2025-01-03                                   76.72  70.206429  2025\n",
       "62 2025-01-02                                   76.14  69.862167  2025\n",
       "\n",
       "[63 rows x 4 columns]"
      ]
     },
     "execution_count": 33,
     "metadata": {},
     "output_type": "execute_result"
    }
   ],
   "source": [
    "df_brent_forecast_25"
   ]
  },
  {
   "cell_type": "code",
   "execution_count": 35,
   "id": "fa847092",
   "metadata": {},
   "outputs": [
    {
     "name": "stdout",
     "output_type": "stream",
     "text": [
      "MAE: 5.9022\n",
      "RMSE: 6.9704\n",
      "WMAPE: 7.7789%\n"
     ]
    }
   ],
   "source": [
    "# Supondo que df_brent_forecast_25 já esteja carregado\n",
    "y_true = df_brent_forecast_25[\"Preço Brent FOB (US$/barril)_Corrigido\"]\n",
    "y_pred = df_brent_forecast_25[\"yhat\"]\n",
    "\n",
    "# Calculando MAE\n",
    "mae = mean_absolute_error(y_true, y_pred)\n",
    "\n",
    "# Calculando RMSE\n",
    "rmse = np.sqrt(mean_squared_error(y_true, y_pred))\n",
    "\n",
    "# Calculando WMAPE\n",
    "wmape = np.sum(np.abs(y_true - y_pred)) / np.sum(y_true)\n",
    "\n",
    "# Exibindo os resultados\n",
    "print(f\"MAE: {mae:.4f}\")\n",
    "print(f\"RMSE: {rmse:.4f}\")\n",
    "print(f\"WMAPE: {wmape:.4%}\")"
   ]
  },
  {
   "cell_type": "code",
   "execution_count": null,
   "id": "42794e5c",
   "metadata": {},
   "outputs": [],
   "source": [
    "# Otimizando o modelo Prophet usando o \"Grid Search\"\n",
    "\n"
   ]
  },
  {
   "cell_type": "code",
   "execution_count": 37,
   "id": "91836f50",
   "metadata": {},
   "outputs": [
    {
     "data": {
      "text/html": [
       "<div>\n",
       "<style scoped>\n",
       "    .dataframe tbody tr th:only-of-type {\n",
       "        vertical-align: middle;\n",
       "    }\n",
       "\n",
       "    .dataframe tbody tr th {\n",
       "        vertical-align: top;\n",
       "    }\n",
       "\n",
       "    .dataframe thead th {\n",
       "        text-align: right;\n",
       "    }\n",
       "</style>\n",
       "<table border=\"1\" class=\"dataframe\">\n",
       "  <thead>\n",
       "    <tr style=\"text-align: right;\">\n",
       "      <th></th>\n",
       "      <th>ds</th>\n",
       "      <th>y</th>\n",
       "      <th>year</th>\n",
       "    </tr>\n",
       "  </thead>\n",
       "  <tbody>\n",
       "    <tr>\n",
       "      <th>2</th>\n",
       "      <td>2025-04-25</td>\n",
       "      <td>66.99</td>\n",
       "      <td>2025</td>\n",
       "    </tr>\n",
       "    <tr>\n",
       "      <th>3</th>\n",
       "      <td>2025-04-24</td>\n",
       "      <td>67.50</td>\n",
       "      <td>2025</td>\n",
       "    </tr>\n",
       "    <tr>\n",
       "      <th>4</th>\n",
       "      <td>2025-04-23</td>\n",
       "      <td>68.26</td>\n",
       "      <td>2025</td>\n",
       "    </tr>\n",
       "    <tr>\n",
       "      <th>5</th>\n",
       "      <td>2025-04-22</td>\n",
       "      <td>68.93</td>\n",
       "      <td>2025</td>\n",
       "    </tr>\n",
       "    <tr>\n",
       "      <th>6</th>\n",
       "      <td>2025-04-17</td>\n",
       "      <td>69.33</td>\n",
       "      <td>2025</td>\n",
       "    </tr>\n",
       "    <tr>\n",
       "      <th>...</th>\n",
       "      <td>...</td>\n",
       "      <td>...</td>\n",
       "      <td>...</td>\n",
       "    </tr>\n",
       "    <tr>\n",
       "      <th>11407</th>\n",
       "      <td>1987-05-26</td>\n",
       "      <td>18.63</td>\n",
       "      <td>1987</td>\n",
       "    </tr>\n",
       "    <tr>\n",
       "      <th>11408</th>\n",
       "      <td>1987-05-25</td>\n",
       "      <td>18.60</td>\n",
       "      <td>1987</td>\n",
       "    </tr>\n",
       "    <tr>\n",
       "      <th>11409</th>\n",
       "      <td>1987-05-22</td>\n",
       "      <td>18.55</td>\n",
       "      <td>1987</td>\n",
       "    </tr>\n",
       "    <tr>\n",
       "      <th>11410</th>\n",
       "      <td>1987-05-21</td>\n",
       "      <td>18.45</td>\n",
       "      <td>1987</td>\n",
       "    </tr>\n",
       "    <tr>\n",
       "      <th>11411</th>\n",
       "      <td>1987-05-20</td>\n",
       "      <td>18.63</td>\n",
       "      <td>1987</td>\n",
       "    </tr>\n",
       "  </tbody>\n",
       "</table>\n",
       "<p>11410 rows × 3 columns</p>\n",
       "</div>"
      ],
      "text/plain": [
       "              ds      y  year\n",
       "2     2025-04-25  66.99  2025\n",
       "3     2025-04-24  67.50  2025\n",
       "4     2025-04-23  68.26  2025\n",
       "5     2025-04-22  68.93  2025\n",
       "6     2025-04-17  69.33  2025\n",
       "...          ...    ...   ...\n",
       "11407 1987-05-26  18.63  1987\n",
       "11408 1987-05-25  18.60  1987\n",
       "11409 1987-05-22  18.55  1987\n",
       "11410 1987-05-21  18.45  1987\n",
       "11411 1987-05-20  18.63  1987\n",
       "\n",
       "[11410 rows x 3 columns]"
      ]
     },
     "execution_count": 37,
     "metadata": {},
     "output_type": "execute_result"
    }
   ],
   "source": [
    "df_brent_prophet"
   ]
  },
  {
   "cell_type": "code",
   "execution_count": 45,
   "id": "59ec3f04",
   "metadata": {},
   "outputs": [
    {
     "name": "stderr",
     "output_type": "stream",
     "text": [
      "16:46:15 - cmdstanpy - INFO - Chain [1] start processing\n"
     ]
    },
    {
     "name": "stdout",
     "output_type": "stream",
     "text": [
      "Treinando com parâmetros: {'changepoint_prior_scale': 0.001, 'seasonality_prior_scale': 0.01, 'n_changepoints': 10}\n"
     ]
    },
    {
     "name": "stderr",
     "output_type": "stream",
     "text": [
      "16:46:15 - cmdstanpy - INFO - Chain [1] done processing\n",
      "16:46:15 - cmdstanpy - INFO - Chain [1] start processing\n",
      "16:46:15 - cmdstanpy - INFO - Chain [1] done processing\n"
     ]
    },
    {
     "name": "stdout",
     "output_type": "stream",
     "text": [
      "Treinando com parâmetros: {'changepoint_prior_scale': 0.001, 'seasonality_prior_scale': 0.01, 'n_changepoints': 25}\n"
     ]
    },
    {
     "name": "stderr",
     "output_type": "stream",
     "text": [
      "16:46:15 - cmdstanpy - INFO - Chain [1] start processing\n"
     ]
    },
    {
     "name": "stdout",
     "output_type": "stream",
     "text": [
      "Treinando com parâmetros: {'changepoint_prior_scale': 0.001, 'seasonality_prior_scale': 0.01, 'n_changepoints': 50}\n"
     ]
    },
    {
     "name": "stderr",
     "output_type": "stream",
     "text": [
      "16:46:15 - cmdstanpy - INFO - Chain [1] done processing\n",
      "16:46:16 - cmdstanpy - INFO - Chain [1] start processing\n",
      "16:46:16 - cmdstanpy - INFO - Chain [1] done processing\n"
     ]
    },
    {
     "name": "stdout",
     "output_type": "stream",
     "text": [
      "Treinando com parâmetros: {'changepoint_prior_scale': 0.001, 'seasonality_prior_scale': 0.01, 'n_changepoints': 100}\n"
     ]
    },
    {
     "name": "stderr",
     "output_type": "stream",
     "text": [
      "16:46:16 - cmdstanpy - ERROR - Chain [1] error: error during processing Operation not permitted\n",
      "Optimization terminated abnormally. Falling back to Newton.\n",
      "16:46:16 - cmdstanpy - INFO - Chain [1] start processing\n",
      "16:46:22 - cmdstanpy - INFO - Chain [1] done processing\n",
      "16:46:23 - cmdstanpy - INFO - Chain [1] start processing\n",
      "16:46:23 - cmdstanpy - INFO - Chain [1] done processing\n"
     ]
    },
    {
     "name": "stdout",
     "output_type": "stream",
     "text": [
      "Treinando com parâmetros: {'changepoint_prior_scale': 0.001, 'seasonality_prior_scale': 0.1, 'n_changepoints': 10}\n"
     ]
    },
    {
     "name": "stderr",
     "output_type": "stream",
     "text": [
      "16:46:23 - cmdstanpy - INFO - Chain [1] start processing\n",
      "16:46:23 - cmdstanpy - INFO - Chain [1] done processing\n"
     ]
    },
    {
     "name": "stdout",
     "output_type": "stream",
     "text": [
      "Treinando com parâmetros: {'changepoint_prior_scale': 0.001, 'seasonality_prior_scale': 0.1, 'n_changepoints': 25}\n"
     ]
    },
    {
     "name": "stderr",
     "output_type": "stream",
     "text": [
      "16:46:23 - cmdstanpy - INFO - Chain [1] start processing\n",
      "16:46:23 - cmdstanpy - INFO - Chain [1] done processing\n"
     ]
    },
    {
     "name": "stdout",
     "output_type": "stream",
     "text": [
      "Treinando com parâmetros: {'changepoint_prior_scale': 0.001, 'seasonality_prior_scale': 0.1, 'n_changepoints': 50}\n"
     ]
    },
    {
     "name": "stderr",
     "output_type": "stream",
     "text": [
      "16:46:24 - cmdstanpy - INFO - Chain [1] start processing\n",
      "16:46:24 - cmdstanpy - INFO - Chain [1] done processing\n",
      "16:46:24 - cmdstanpy - ERROR - Chain [1] error: error during processing Operation not permitted\n",
      "Optimization terminated abnormally. Falling back to Newton.\n"
     ]
    },
    {
     "name": "stdout",
     "output_type": "stream",
     "text": [
      "Treinando com parâmetros: {'changepoint_prior_scale': 0.001, 'seasonality_prior_scale': 0.1, 'n_changepoints': 100}\n"
     ]
    },
    {
     "name": "stderr",
     "output_type": "stream",
     "text": [
      "16:46:24 - cmdstanpy - INFO - Chain [1] start processing\n",
      "16:46:30 - cmdstanpy - INFO - Chain [1] done processing\n",
      "16:46:30 - cmdstanpy - INFO - Chain [1] start processing\n",
      "16:46:30 - cmdstanpy - INFO - Chain [1] done processing\n"
     ]
    },
    {
     "name": "stdout",
     "output_type": "stream",
     "text": [
      "Treinando com parâmetros: {'changepoint_prior_scale': 0.001, 'seasonality_prior_scale': 1.0, 'n_changepoints': 10}\n"
     ]
    },
    {
     "name": "stderr",
     "output_type": "stream",
     "text": [
      "16:46:31 - cmdstanpy - INFO - Chain [1] start processing\n",
      "16:46:31 - cmdstanpy - INFO - Chain [1] done processing\n"
     ]
    },
    {
     "name": "stdout",
     "output_type": "stream",
     "text": [
      "Treinando com parâmetros: {'changepoint_prior_scale': 0.001, 'seasonality_prior_scale': 1.0, 'n_changepoints': 25}\n"
     ]
    },
    {
     "name": "stderr",
     "output_type": "stream",
     "text": [
      "16:46:31 - cmdstanpy - INFO - Chain [1] start processing\n",
      "16:46:31 - cmdstanpy - INFO - Chain [1] done processing\n"
     ]
    },
    {
     "name": "stdout",
     "output_type": "stream",
     "text": [
      "Treinando com parâmetros: {'changepoint_prior_scale': 0.001, 'seasonality_prior_scale': 1.0, 'n_changepoints': 50}\n"
     ]
    },
    {
     "name": "stderr",
     "output_type": "stream",
     "text": [
      "16:46:31 - cmdstanpy - INFO - Chain [1] start processing\n",
      "16:46:31 - cmdstanpy - INFO - Chain [1] done processing\n",
      "16:46:31 - cmdstanpy - ERROR - Chain [1] error: error during processing Operation not permitted\n",
      "Optimization terminated abnormally. Falling back to Newton.\n"
     ]
    },
    {
     "name": "stdout",
     "output_type": "stream",
     "text": [
      "Treinando com parâmetros: {'changepoint_prior_scale': 0.001, 'seasonality_prior_scale': 1.0, 'n_changepoints': 100}\n"
     ]
    },
    {
     "name": "stderr",
     "output_type": "stream",
     "text": [
      "16:46:31 - cmdstanpy - INFO - Chain [1] start processing\n",
      "16:46:37 - cmdstanpy - INFO - Chain [1] done processing\n",
      "16:46:37 - cmdstanpy - INFO - Chain [1] start processing\n",
      "16:46:37 - cmdstanpy - INFO - Chain [1] done processing\n"
     ]
    },
    {
     "name": "stdout",
     "output_type": "stream",
     "text": [
      "Treinando com parâmetros: {'changepoint_prior_scale': 0.001, 'seasonality_prior_scale': 10.0, 'n_changepoints': 10}\n"
     ]
    },
    {
     "name": "stderr",
     "output_type": "stream",
     "text": [
      "16:46:37 - cmdstanpy - INFO - Chain [1] start processing\n",
      "16:46:37 - cmdstanpy - INFO - Chain [1] done processing\n"
     ]
    },
    {
     "name": "stdout",
     "output_type": "stream",
     "text": [
      "Treinando com parâmetros: {'changepoint_prior_scale': 0.001, 'seasonality_prior_scale': 10.0, 'n_changepoints': 25}\n"
     ]
    },
    {
     "name": "stderr",
     "output_type": "stream",
     "text": [
      "16:46:38 - cmdstanpy - INFO - Chain [1] start processing\n",
      "16:46:38 - cmdstanpy - INFO - Chain [1] done processing\n"
     ]
    },
    {
     "name": "stdout",
     "output_type": "stream",
     "text": [
      "Treinando com parâmetros: {'changepoint_prior_scale': 0.001, 'seasonality_prior_scale': 10.0, 'n_changepoints': 50}\n"
     ]
    },
    {
     "name": "stderr",
     "output_type": "stream",
     "text": [
      "16:46:38 - cmdstanpy - INFO - Chain [1] start processing\n",
      "16:46:38 - cmdstanpy - INFO - Chain [1] done processing\n"
     ]
    },
    {
     "name": "stdout",
     "output_type": "stream",
     "text": [
      "Treinando com parâmetros: {'changepoint_prior_scale': 0.001, 'seasonality_prior_scale': 10.0, 'n_changepoints': 100}\n"
     ]
    },
    {
     "name": "stderr",
     "output_type": "stream",
     "text": [
      "16:46:38 - cmdstanpy - ERROR - Chain [1] error: error during processing Operation not permitted\n",
      "Optimization terminated abnormally. Falling back to Newton.\n",
      "16:46:38 - cmdstanpy - INFO - Chain [1] start processing\n",
      "16:46:45 - cmdstanpy - INFO - Chain [1] done processing\n",
      "16:46:45 - cmdstanpy - INFO - Chain [1] start processing\n",
      "16:46:45 - cmdstanpy - INFO - Chain [1] done processing\n"
     ]
    },
    {
     "name": "stdout",
     "output_type": "stream",
     "text": [
      "Treinando com parâmetros: {'changepoint_prior_scale': 0.01, 'seasonality_prior_scale': 0.01, 'n_changepoints': 10}\n"
     ]
    },
    {
     "name": "stderr",
     "output_type": "stream",
     "text": [
      "16:46:45 - cmdstanpy - INFO - Chain [1] start processing\n"
     ]
    },
    {
     "name": "stdout",
     "output_type": "stream",
     "text": [
      "Treinando com parâmetros: {'changepoint_prior_scale': 0.01, 'seasonality_prior_scale': 0.01, 'n_changepoints': 25}\n"
     ]
    },
    {
     "name": "stderr",
     "output_type": "stream",
     "text": [
      "16:46:46 - cmdstanpy - INFO - Chain [1] done processing\n",
      "16:46:46 - cmdstanpy - INFO - Chain [1] start processing\n"
     ]
    },
    {
     "name": "stdout",
     "output_type": "stream",
     "text": [
      "Treinando com parâmetros: {'changepoint_prior_scale': 0.01, 'seasonality_prior_scale': 0.01, 'n_changepoints': 50}\n"
     ]
    },
    {
     "name": "stderr",
     "output_type": "stream",
     "text": [
      "16:46:46 - cmdstanpy - INFO - Chain [1] done processing\n",
      "16:46:46 - cmdstanpy - INFO - Chain [1] start processing\n"
     ]
    },
    {
     "name": "stdout",
     "output_type": "stream",
     "text": [
      "Treinando com parâmetros: {'changepoint_prior_scale': 0.01, 'seasonality_prior_scale': 0.01, 'n_changepoints': 100}\n"
     ]
    },
    {
     "name": "stderr",
     "output_type": "stream",
     "text": [
      "16:46:47 - cmdstanpy - INFO - Chain [1] done processing\n",
      "16:46:47 - cmdstanpy - INFO - Chain [1] start processing\n"
     ]
    },
    {
     "name": "stdout",
     "output_type": "stream",
     "text": [
      "Treinando com parâmetros: {'changepoint_prior_scale': 0.01, 'seasonality_prior_scale': 0.1, 'n_changepoints': 10}\n"
     ]
    },
    {
     "name": "stderr",
     "output_type": "stream",
     "text": [
      "16:46:47 - cmdstanpy - INFO - Chain [1] done processing\n",
      "16:46:47 - cmdstanpy - INFO - Chain [1] start processing\n"
     ]
    },
    {
     "name": "stdout",
     "output_type": "stream",
     "text": [
      "Treinando com parâmetros: {'changepoint_prior_scale': 0.01, 'seasonality_prior_scale': 0.1, 'n_changepoints': 25}\n"
     ]
    },
    {
     "name": "stderr",
     "output_type": "stream",
     "text": [
      "16:46:47 - cmdstanpy - INFO - Chain [1] done processing\n",
      "16:46:48 - cmdstanpy - INFO - Chain [1] start processing\n",
      "16:46:48 - cmdstanpy - INFO - Chain [1] done processing\n"
     ]
    },
    {
     "name": "stdout",
     "output_type": "stream",
     "text": [
      "Treinando com parâmetros: {'changepoint_prior_scale': 0.01, 'seasonality_prior_scale': 0.1, 'n_changepoints': 50}\n"
     ]
    },
    {
     "name": "stderr",
     "output_type": "stream",
     "text": [
      "16:46:48 - cmdstanpy - INFO - Chain [1] start processing\n"
     ]
    },
    {
     "name": "stdout",
     "output_type": "stream",
     "text": [
      "Treinando com parâmetros: {'changepoint_prior_scale': 0.01, 'seasonality_prior_scale': 0.1, 'n_changepoints': 100}\n"
     ]
    },
    {
     "name": "stderr",
     "output_type": "stream",
     "text": [
      "16:46:48 - cmdstanpy - INFO - Chain [1] done processing\n",
      "16:46:48 - cmdstanpy - INFO - Chain [1] start processing\n",
      "16:46:49 - cmdstanpy - INFO - Chain [1] done processing\n"
     ]
    },
    {
     "name": "stdout",
     "output_type": "stream",
     "text": [
      "Treinando com parâmetros: {'changepoint_prior_scale': 0.01, 'seasonality_prior_scale': 1.0, 'n_changepoints': 10}\n"
     ]
    },
    {
     "name": "stderr",
     "output_type": "stream",
     "text": [
      "16:46:49 - cmdstanpy - INFO - Chain [1] start processing\n"
     ]
    },
    {
     "name": "stdout",
     "output_type": "stream",
     "text": [
      "Treinando com parâmetros: {'changepoint_prior_scale': 0.01, 'seasonality_prior_scale': 1.0, 'n_changepoints': 25}\n"
     ]
    },
    {
     "name": "stderr",
     "output_type": "stream",
     "text": [
      "16:46:49 - cmdstanpy - INFO - Chain [1] done processing\n",
      "16:46:49 - cmdstanpy - INFO - Chain [1] start processing\n"
     ]
    },
    {
     "name": "stdout",
     "output_type": "stream",
     "text": [
      "Treinando com parâmetros: {'changepoint_prior_scale': 0.01, 'seasonality_prior_scale': 1.0, 'n_changepoints': 50}\n"
     ]
    },
    {
     "name": "stderr",
     "output_type": "stream",
     "text": [
      "16:46:49 - cmdstanpy - INFO - Chain [1] done processing\n",
      "16:46:50 - cmdstanpy - INFO - Chain [1] start processing\n"
     ]
    },
    {
     "name": "stdout",
     "output_type": "stream",
     "text": [
      "Treinando com parâmetros: {'changepoint_prior_scale': 0.01, 'seasonality_prior_scale': 1.0, 'n_changepoints': 100}\n"
     ]
    },
    {
     "name": "stderr",
     "output_type": "stream",
     "text": [
      "16:46:50 - cmdstanpy - INFO - Chain [1] done processing\n",
      "16:46:50 - cmdstanpy - INFO - Chain [1] start processing\n"
     ]
    },
    {
     "name": "stdout",
     "output_type": "stream",
     "text": [
      "Treinando com parâmetros: {'changepoint_prior_scale': 0.01, 'seasonality_prior_scale': 10.0, 'n_changepoints': 10}\n"
     ]
    },
    {
     "name": "stderr",
     "output_type": "stream",
     "text": [
      "16:46:50 - cmdstanpy - INFO - Chain [1] done processing\n",
      "16:46:51 - cmdstanpy - INFO - Chain [1] start processing\n"
     ]
    },
    {
     "name": "stdout",
     "output_type": "stream",
     "text": [
      "Treinando com parâmetros: {'changepoint_prior_scale': 0.01, 'seasonality_prior_scale': 10.0, 'n_changepoints': 25}\n"
     ]
    },
    {
     "name": "stderr",
     "output_type": "stream",
     "text": [
      "16:46:51 - cmdstanpy - INFO - Chain [1] done processing\n"
     ]
    },
    {
     "name": "stdout",
     "output_type": "stream",
     "text": [
      "Treinando com parâmetros: {'changepoint_prior_scale': 0.01, 'seasonality_prior_scale': 10.0, 'n_changepoints': 50}\n"
     ]
    },
    {
     "name": "stderr",
     "output_type": "stream",
     "text": [
      "16:46:51 - cmdstanpy - INFO - Chain [1] start processing\n",
      "16:46:52 - cmdstanpy - INFO - Chain [1] done processing\n",
      "16:46:52 - cmdstanpy - INFO - Chain [1] start processing\n"
     ]
    },
    {
     "name": "stdout",
     "output_type": "stream",
     "text": [
      "Treinando com parâmetros: {'changepoint_prior_scale': 0.01, 'seasonality_prior_scale': 10.0, 'n_changepoints': 100}\n"
     ]
    },
    {
     "name": "stderr",
     "output_type": "stream",
     "text": [
      "16:46:52 - cmdstanpy - INFO - Chain [1] done processing\n",
      "16:46:53 - cmdstanpy - INFO - Chain [1] start processing\n"
     ]
    },
    {
     "name": "stdout",
     "output_type": "stream",
     "text": [
      "Treinando com parâmetros: {'changepoint_prior_scale': 0.1, 'seasonality_prior_scale': 0.01, 'n_changepoints': 10}\n"
     ]
    },
    {
     "name": "stderr",
     "output_type": "stream",
     "text": [
      "16:46:53 - cmdstanpy - INFO - Chain [1] done processing\n",
      "16:46:53 - cmdstanpy - INFO - Chain [1] start processing\n"
     ]
    },
    {
     "name": "stdout",
     "output_type": "stream",
     "text": [
      "Treinando com parâmetros: {'changepoint_prior_scale': 0.1, 'seasonality_prior_scale': 0.01, 'n_changepoints': 25}\n"
     ]
    },
    {
     "name": "stderr",
     "output_type": "stream",
     "text": [
      "16:46:53 - cmdstanpy - INFO - Chain [1] done processing\n",
      "16:46:54 - cmdstanpy - INFO - Chain [1] start processing\n"
     ]
    },
    {
     "name": "stdout",
     "output_type": "stream",
     "text": [
      "Treinando com parâmetros: {'changepoint_prior_scale': 0.1, 'seasonality_prior_scale': 0.01, 'n_changepoints': 50}\n"
     ]
    },
    {
     "name": "stderr",
     "output_type": "stream",
     "text": [
      "16:46:54 - cmdstanpy - INFO - Chain [1] done processing\n"
     ]
    },
    {
     "name": "stdout",
     "output_type": "stream",
     "text": [
      "Treinando com parâmetros: {'changepoint_prior_scale': 0.1, 'seasonality_prior_scale': 0.01, 'n_changepoints': 100}\n"
     ]
    },
    {
     "name": "stderr",
     "output_type": "stream",
     "text": [
      "16:46:55 - cmdstanpy - INFO - Chain [1] start processing\n",
      "16:46:55 - cmdstanpy - INFO - Chain [1] done processing\n",
      "16:46:55 - cmdstanpy - INFO - Chain [1] start processing\n"
     ]
    },
    {
     "name": "stdout",
     "output_type": "stream",
     "text": [
      "Treinando com parâmetros: {'changepoint_prior_scale': 0.1, 'seasonality_prior_scale': 0.1, 'n_changepoints': 10}\n"
     ]
    },
    {
     "name": "stderr",
     "output_type": "stream",
     "text": [
      "16:46:56 - cmdstanpy - INFO - Chain [1] done processing\n"
     ]
    },
    {
     "name": "stdout",
     "output_type": "stream",
     "text": [
      "Treinando com parâmetros: {'changepoint_prior_scale': 0.1, 'seasonality_prior_scale': 0.1, 'n_changepoints': 25}\n"
     ]
    },
    {
     "name": "stderr",
     "output_type": "stream",
     "text": [
      "16:46:56 - cmdstanpy - INFO - Chain [1] start processing\n",
      "16:46:56 - cmdstanpy - INFO - Chain [1] done processing\n",
      "16:46:57 - cmdstanpy - INFO - Chain [1] start processing\n"
     ]
    },
    {
     "name": "stdout",
     "output_type": "stream",
     "text": [
      "Treinando com parâmetros: {'changepoint_prior_scale': 0.1, 'seasonality_prior_scale': 0.1, 'n_changepoints': 50}\n"
     ]
    },
    {
     "name": "stderr",
     "output_type": "stream",
     "text": [
      "16:46:57 - cmdstanpy - INFO - Chain [1] done processing\n",
      "16:46:58 - cmdstanpy - INFO - Chain [1] start processing\n"
     ]
    },
    {
     "name": "stdout",
     "output_type": "stream",
     "text": [
      "Treinando com parâmetros: {'changepoint_prior_scale': 0.1, 'seasonality_prior_scale': 0.1, 'n_changepoints': 100}\n"
     ]
    },
    {
     "name": "stderr",
     "output_type": "stream",
     "text": [
      "16:46:58 - cmdstanpy - INFO - Chain [1] done processing\n",
      "16:46:59 - cmdstanpy - INFO - Chain [1] start processing\n"
     ]
    },
    {
     "name": "stdout",
     "output_type": "stream",
     "text": [
      "Treinando com parâmetros: {'changepoint_prior_scale': 0.1, 'seasonality_prior_scale': 1.0, 'n_changepoints': 10}\n"
     ]
    },
    {
     "name": "stderr",
     "output_type": "stream",
     "text": [
      "16:46:59 - cmdstanpy - INFO - Chain [1] done processing\n",
      "16:46:59 - cmdstanpy - INFO - Chain [1] start processing\n"
     ]
    },
    {
     "name": "stdout",
     "output_type": "stream",
     "text": [
      "Treinando com parâmetros: {'changepoint_prior_scale': 0.1, 'seasonality_prior_scale': 1.0, 'n_changepoints': 25}\n"
     ]
    },
    {
     "name": "stderr",
     "output_type": "stream",
     "text": [
      "16:46:59 - cmdstanpy - INFO - Chain [1] done processing\n",
      "16:47:00 - cmdstanpy - INFO - Chain [1] start processing\n"
     ]
    },
    {
     "name": "stdout",
     "output_type": "stream",
     "text": [
      "Treinando com parâmetros: {'changepoint_prior_scale': 0.1, 'seasonality_prior_scale': 1.0, 'n_changepoints': 50}\n"
     ]
    },
    {
     "name": "stderr",
     "output_type": "stream",
     "text": [
      "16:47:00 - cmdstanpy - INFO - Chain [1] done processing\n",
      "16:47:01 - cmdstanpy - INFO - Chain [1] start processing\n"
     ]
    },
    {
     "name": "stdout",
     "output_type": "stream",
     "text": [
      "Treinando com parâmetros: {'changepoint_prior_scale': 0.1, 'seasonality_prior_scale': 1.0, 'n_changepoints': 100}\n"
     ]
    },
    {
     "name": "stderr",
     "output_type": "stream",
     "text": [
      "16:47:01 - cmdstanpy - INFO - Chain [1] done processing\n",
      "16:47:02 - cmdstanpy - INFO - Chain [1] start processing\n"
     ]
    },
    {
     "name": "stdout",
     "output_type": "stream",
     "text": [
      "Treinando com parâmetros: {'changepoint_prior_scale': 0.1, 'seasonality_prior_scale': 10.0, 'n_changepoints': 10}\n"
     ]
    },
    {
     "name": "stderr",
     "output_type": "stream",
     "text": [
      "16:47:02 - cmdstanpy - INFO - Chain [1] done processing\n",
      "16:47:02 - cmdstanpy - ERROR - Chain [1] error: error during processing Operation not permitted\n",
      "Optimization terminated abnormally. Falling back to Newton.\n",
      "16:47:02 - cmdstanpy - INFO - Chain [1] start processing\n",
      "16:47:03 - cmdstanpy - INFO - Chain [1] done processing\n"
     ]
    },
    {
     "name": "stdout",
     "output_type": "stream",
     "text": [
      "Treinando com parâmetros: {'changepoint_prior_scale': 0.1, 'seasonality_prior_scale': 10.0, 'n_changepoints': 25}\n"
     ]
    },
    {
     "name": "stderr",
     "output_type": "stream",
     "text": [
      "16:47:04 - cmdstanpy - INFO - Chain [1] start processing\n",
      "16:47:04 - cmdstanpy - INFO - Chain [1] done processing\n"
     ]
    },
    {
     "name": "stdout",
     "output_type": "stream",
     "text": [
      "Treinando com parâmetros: {'changepoint_prior_scale': 0.1, 'seasonality_prior_scale': 10.0, 'n_changepoints': 50}\n"
     ]
    },
    {
     "name": "stderr",
     "output_type": "stream",
     "text": [
      "16:47:05 - cmdstanpy - INFO - Chain [1] start processing\n",
      "16:47:05 - cmdstanpy - INFO - Chain [1] done processing\n"
     ]
    },
    {
     "name": "stdout",
     "output_type": "stream",
     "text": [
      "Treinando com parâmetros: {'changepoint_prior_scale': 0.1, 'seasonality_prior_scale': 10.0, 'n_changepoints': 100}\n"
     ]
    },
    {
     "name": "stderr",
     "output_type": "stream",
     "text": [
      "16:47:05 - cmdstanpy - INFO - Chain [1] start processing\n",
      "16:47:06 - cmdstanpy - INFO - Chain [1] done processing\n",
      "16:47:06 - cmdstanpy - INFO - Chain [1] start processing\n"
     ]
    },
    {
     "name": "stdout",
     "output_type": "stream",
     "text": [
      "Treinando com parâmetros: {'changepoint_prior_scale': 0.5, 'seasonality_prior_scale': 0.01, 'n_changepoints': 10}\n"
     ]
    },
    {
     "name": "stderr",
     "output_type": "stream",
     "text": [
      "16:47:06 - cmdstanpy - INFO - Chain [1] done processing\n",
      "16:47:07 - cmdstanpy - INFO - Chain [1] start processing\n"
     ]
    },
    {
     "name": "stdout",
     "output_type": "stream",
     "text": [
      "Treinando com parâmetros: {'changepoint_prior_scale': 0.5, 'seasonality_prior_scale': 0.01, 'n_changepoints': 25}\n"
     ]
    },
    {
     "name": "stderr",
     "output_type": "stream",
     "text": [
      "16:47:07 - cmdstanpy - INFO - Chain [1] done processing\n",
      "16:47:08 - cmdstanpy - INFO - Chain [1] start processing\n"
     ]
    },
    {
     "name": "stdout",
     "output_type": "stream",
     "text": [
      "Treinando com parâmetros: {'changepoint_prior_scale': 0.5, 'seasonality_prior_scale': 0.01, 'n_changepoints': 50}\n"
     ]
    },
    {
     "name": "stderr",
     "output_type": "stream",
     "text": [
      "16:47:09 - cmdstanpy - INFO - Chain [1] done processing\n"
     ]
    },
    {
     "name": "stdout",
     "output_type": "stream",
     "text": [
      "Treinando com parâmetros: {'changepoint_prior_scale': 0.5, 'seasonality_prior_scale': 0.01, 'n_changepoints': 100}\n"
     ]
    },
    {
     "name": "stderr",
     "output_type": "stream",
     "text": [
      "16:47:10 - cmdstanpy - INFO - Chain [1] start processing\n",
      "16:47:12 - cmdstanpy - INFO - Chain [1] done processing\n",
      "16:47:12 - cmdstanpy - INFO - Chain [1] start processing\n"
     ]
    },
    {
     "name": "stdout",
     "output_type": "stream",
     "text": [
      "Treinando com parâmetros: {'changepoint_prior_scale': 0.5, 'seasonality_prior_scale': 0.1, 'n_changepoints': 10}\n"
     ]
    },
    {
     "name": "stderr",
     "output_type": "stream",
     "text": [
      "16:47:13 - cmdstanpy - INFO - Chain [1] done processing\n",
      "16:47:13 - cmdstanpy - INFO - Chain [1] start processing\n"
     ]
    },
    {
     "name": "stdout",
     "output_type": "stream",
     "text": [
      "Treinando com parâmetros: {'changepoint_prior_scale': 0.5, 'seasonality_prior_scale': 0.1, 'n_changepoints': 25}\n"
     ]
    },
    {
     "name": "stderr",
     "output_type": "stream",
     "text": [
      "16:47:13 - cmdstanpy - INFO - Chain [1] done processing\n",
      "16:47:14 - cmdstanpy - INFO - Chain [1] start processing\n"
     ]
    },
    {
     "name": "stdout",
     "output_type": "stream",
     "text": [
      "Treinando com parâmetros: {'changepoint_prior_scale': 0.5, 'seasonality_prior_scale': 0.1, 'n_changepoints': 50}\n"
     ]
    },
    {
     "name": "stderr",
     "output_type": "stream",
     "text": [
      "16:47:15 - cmdstanpy - INFO - Chain [1] done processing\n",
      "16:47:16 - cmdstanpy - INFO - Chain [1] start processing\n"
     ]
    },
    {
     "name": "stdout",
     "output_type": "stream",
     "text": [
      "Treinando com parâmetros: {'changepoint_prior_scale': 0.5, 'seasonality_prior_scale': 0.1, 'n_changepoints': 100}\n"
     ]
    },
    {
     "name": "stderr",
     "output_type": "stream",
     "text": [
      "16:47:17 - cmdstanpy - INFO - Chain [1] done processing\n",
      "16:47:18 - cmdstanpy - INFO - Chain [1] start processing\n"
     ]
    },
    {
     "name": "stdout",
     "output_type": "stream",
     "text": [
      "Treinando com parâmetros: {'changepoint_prior_scale': 0.5, 'seasonality_prior_scale': 1.0, 'n_changepoints': 10}\n"
     ]
    },
    {
     "name": "stderr",
     "output_type": "stream",
     "text": [
      "16:47:18 - cmdstanpy - INFO - Chain [1] done processing\n",
      "16:47:18 - cmdstanpy - INFO - Chain [1] start processing\n"
     ]
    },
    {
     "name": "stdout",
     "output_type": "stream",
     "text": [
      "Treinando com parâmetros: {'changepoint_prior_scale': 0.5, 'seasonality_prior_scale': 1.0, 'n_changepoints': 25}\n"
     ]
    },
    {
     "name": "stderr",
     "output_type": "stream",
     "text": [
      "16:47:19 - cmdstanpy - INFO - Chain [1] done processing\n",
      "16:47:19 - cmdstanpy - INFO - Chain [1] start processing\n"
     ]
    },
    {
     "name": "stdout",
     "output_type": "stream",
     "text": [
      "Treinando com parâmetros: {'changepoint_prior_scale': 0.5, 'seasonality_prior_scale': 1.0, 'n_changepoints': 50}\n"
     ]
    },
    {
     "name": "stderr",
     "output_type": "stream",
     "text": [
      "16:47:20 - cmdstanpy - INFO - Chain [1] done processing\n",
      "16:47:21 - cmdstanpy - INFO - Chain [1] start processing\n"
     ]
    },
    {
     "name": "stdout",
     "output_type": "stream",
     "text": [
      "Treinando com parâmetros: {'changepoint_prior_scale': 0.5, 'seasonality_prior_scale': 1.0, 'n_changepoints': 100}\n"
     ]
    },
    {
     "name": "stderr",
     "output_type": "stream",
     "text": [
      "16:47:22 - cmdstanpy - INFO - Chain [1] done processing\n",
      "16:47:23 - cmdstanpy - INFO - Chain [1] start processing\n"
     ]
    },
    {
     "name": "stdout",
     "output_type": "stream",
     "text": [
      "Treinando com parâmetros: {'changepoint_prior_scale': 0.5, 'seasonality_prior_scale': 10.0, 'n_changepoints': 10}\n"
     ]
    },
    {
     "name": "stderr",
     "output_type": "stream",
     "text": [
      "16:47:23 - cmdstanpy - INFO - Chain [1] done processing\n"
     ]
    },
    {
     "name": "stdout",
     "output_type": "stream",
     "text": [
      "Treinando com parâmetros: {'changepoint_prior_scale': 0.5, 'seasonality_prior_scale': 10.0, 'n_changepoints': 25}\n"
     ]
    },
    {
     "name": "stderr",
     "output_type": "stream",
     "text": [
      "16:47:24 - cmdstanpy - INFO - Chain [1] start processing\n",
      "16:47:24 - cmdstanpy - INFO - Chain [1] done processing\n",
      "16:47:25 - cmdstanpy - INFO - Chain [1] start processing\n"
     ]
    },
    {
     "name": "stdout",
     "output_type": "stream",
     "text": [
      "Treinando com parâmetros: {'changepoint_prior_scale': 0.5, 'seasonality_prior_scale': 10.0, 'n_changepoints': 50}\n"
     ]
    },
    {
     "name": "stderr",
     "output_type": "stream",
     "text": [
      "16:47:26 - cmdstanpy - INFO - Chain [1] done processing\n",
      "16:47:26 - cmdstanpy - INFO - Chain [1] start processing\n"
     ]
    },
    {
     "name": "stdout",
     "output_type": "stream",
     "text": [
      "Treinando com parâmetros: {'changepoint_prior_scale': 0.5, 'seasonality_prior_scale': 10.0, 'n_changepoints': 100}\n"
     ]
    },
    {
     "name": "stderr",
     "output_type": "stream",
     "text": [
      "16:47:28 - cmdstanpy - INFO - Chain [1] done processing\n"
     ]
    },
    {
     "name": "stdout",
     "output_type": "stream",
     "text": [
      "Resultados da Otimização via Grid Search:\n",
      " changepoint_prior_scale  seasonality_prior_scale  n_changepoints    WMAPE\n",
      "                   0.500                     0.01              50 0.032400\n",
      "                   0.500                     0.01              25 0.036219\n",
      "                   0.500                     0.01             100 0.037616\n",
      "                   0.100                     0.01             100 0.066325\n",
      "                   0.100                     0.01              25 0.067708\n",
      "                   0.100                     0.01              10 0.068206\n",
      "                   0.100                     0.01              50 0.068707\n",
      "                   0.100                    10.00              10 0.076271\n",
      "                   0.100                     1.00              10 0.076540\n",
      "                   0.100                     1.00              50 0.077925\n",
      "                   0.500                     0.01              10 0.078334\n",
      "                   0.100                     0.10              10 0.078581\n",
      "                   0.100                     0.10              50 0.081070\n",
      "                   0.001                     0.01              50 0.082151\n",
      "                   0.100                     0.10              25 0.083002\n",
      "                   0.100                     1.00              25 0.084207\n",
      "                   0.100                    10.00              25 0.084782\n",
      "                   0.010                     0.01             100 0.084828\n",
      "                   0.010                     0.01              50 0.085973\n",
      "                   0.010                     0.01              10 0.086947\n",
      "                   0.010                     0.01              25 0.087376\n",
      "                   0.010                     1.00             100 0.089166\n",
      "                   0.100                    10.00              50 0.089423\n",
      "                   0.010                     0.10             100 0.089526\n",
      "                   0.010                    10.00             100 0.089900\n",
      "                   0.010                    10.00              50 0.090110\n",
      "                   0.010                    10.00              25 0.090268\n",
      "                   0.010                     0.10              25 0.090488\n",
      "                   0.010                     1.00              50 0.090634\n",
      "                   0.010                     1.00              10 0.090864\n",
      "                   0.010                     0.10              50 0.090864\n",
      "                   0.001                     0.01              25 0.090989\n",
      "                   0.100                    10.00             100 0.091604\n",
      "                   0.010                    10.00              10 0.091977\n",
      "                   0.100                     1.00             100 0.092046\n",
      "                   0.010                     0.10              10 0.092165\n",
      "                   0.010                     1.00              25 0.092574\n",
      "                   0.100                     0.10             100 0.093873\n",
      "                   0.001                    10.00              50 0.095764\n",
      "                   0.001                     0.01              10 0.098272\n",
      "                   0.001                     0.10              25 0.100217\n",
      "                   0.001                     0.10              10 0.101707\n",
      "                   0.001                     0.10              50 0.101977\n",
      "                   0.001                    10.00              25 0.102202\n",
      "                   0.001                     1.00              10 0.102969\n",
      "                   0.001                     1.00              50 0.103439\n",
      "                   0.001                    10.00              10 0.104181\n",
      "                   0.001                     0.01             100 0.104961\n",
      "                   0.001                     0.10             100 0.108057\n",
      "                   0.001                     1.00              25 0.109080\n",
      "                   0.001                    10.00             100 0.110011\n",
      "                   0.001                     1.00             100 0.111152\n",
      "                   0.500                    10.00              10 0.142470\n",
      "                   0.500                     1.00              10 0.146286\n",
      "                   0.500                     0.10              10 0.150430\n",
      "                   0.500                     0.10             100 0.183107\n",
      "                   0.500                     0.10              50 0.184020\n",
      "                   0.500                     1.00             100 0.185015\n",
      "                   0.500                    10.00             100 0.187378\n",
      "                   0.500                    10.00              50 0.187518\n",
      "                   0.500                     1.00              50 0.188737\n",
      "                   0.500                     0.10              25 0.203961\n",
      "                   0.500                    10.00              25 0.205382\n",
      "                   0.500                     1.00              25 0.206079\n"
     ]
    }
   ],
   "source": [
    "# Selecionando os dados de treinamento: período de [year, 2025)\n",
    "df_train = df_brent_prophet.query('year >= ' + str(year) + ' and year < 2025').copy()\n",
    "\n",
    "# --------------------------------------\n",
    "# PARTE 2: Otimização via Grid Search\n",
    "# --------------------------------------\n",
    "# Definindo o grid de hiperparâmetros\n",
    "param_grid = {\n",
    "    'changepoint_prior_scale': [0.001, 0.01, 0.1, 0.5],\n",
    "    'seasonality_prior_scale': [0.01, 0.1, 1.0, 10.0],\n",
    "    'n_changepoints': [10, 25, 50, 100]\n",
    "}\n",
    "\n",
    "# Gerando todas as combinações possíveis dos hiperparâmetros\n",
    "all_params = [dict(zip(param_grid.keys(), values)) for values in itertools.product(*param_grid.values())]\n",
    "\n",
    "results = []  # Armazenará tuplas do tipo (parâmetros, WMAPE)\n",
    "\n",
    "# Iterando sobre cada combinação de parâmetros\n",
    "for params in all_params:\n",
    "    print(f\"Treinando com parâmetros: {params}\")\n",
    "    \n",
    "    # Instanciando e treinando o modelo com a combinação atual\n",
    "    m = Prophet(changepoint_prior_scale=params['changepoint_prior_scale'],\n",
    "                seasonality_prior_scale=params['seasonality_prior_scale'],\n",
    "                n_changepoints=params['n_changepoints'])\n",
    "    m.fit(df_train)\n",
    "    \n",
    "    # Gerando forecast para os próximos 90 dias\n",
    "    future = m.make_future_dataframe(periods=90)\n",
    "    forecast = m.predict(future)\n",
    "    \n",
    "    # Selecionando apenas as colunas de interesse\n",
    "    forecast = forecast[['ds', 'yhat', 'yhat_lower', 'yhat_upper']]\n",
    "    forecast['year'] = forecast['ds'].dt.year\n",
    "    \n",
    "    # Selecionando o conjunto de previsões para o período (ano) de interesse (>=2025)\n",
    "    forecast_25 = forecast.query('year >= 2025').drop(columns=['yhat_lower','yhat_upper'])\n",
    "    \n",
    "    # Realizando merge entre os dados reais (df_brent) e o forecast\n",
    "    merged = df_brent.merge(\n",
    "        forecast_25,\n",
    "        left_on='Data',\n",
    "        right_on='ds',\n",
    "        how='inner'\n",
    "    )\n",
    "    merged.drop(columns=['ds'], inplace=True)\n",
    "    \n",
    "    # Obtendo os valores reais e previstos\n",
    "    y_true = merged[\"Preço Brent FOB (US$/barril)_Corrigido\"]\n",
    "    y_pred = merged[\"yhat\"]\n",
    "    \n",
    "    # Calculando o WMAPE:\n",
    "    wmape = np.sum(np.abs(y_true - y_pred)) / np.sum(y_true)\n",
    "    #print(f\"WMAPE: {wmape:.4%} com parâmetros: {params}\\n\")\n",
    "    \n",
    "    # Armazenando os resultados em um dicionário\n",
    "    results.append({\n",
    "        'changepoint_prior_scale': params['changepoint_prior_scale'],\n",
    "        'seasonality_prior_scale': params['seasonality_prior_scale'],\n",
    "        'n_changepoints': params['n_changepoints'],\n",
    "        'WMAPE': wmape\n",
    "    })\n",
    "\n",
    "# Criando um DataFrame com os resultados\n",
    "results_table = pd.DataFrame(results)\n",
    "\n",
    "# Ordenando a tabela pelo WMAPE (menor para melhor)\n",
    "results_table.sort_values('WMAPE', inplace=True)\n",
    "\n",
    "# Exibindo a tabela com os resultados finais\n",
    "print(\"Resultados da Otimização via Grid Search:\")\n",
    "print(results_table.to_string(index=False))"
   ]
  },
  {
   "cell_type": "code",
   "execution_count": 47,
   "id": "2ee85f48",
   "metadata": {},
   "outputs": [
    {
     "name": "stderr",
     "output_type": "stream",
     "text": [
      "16:53:19 - cmdstanpy - INFO - Chain [1] start processing\n",
      "16:53:21 - cmdstanpy - INFO - Chain [1] done processing\n"
     ]
    },
    {
     "name": "stdout",
     "output_type": "stream",
     "text": [
      "WMAPE: 3.2400%\n"
     ]
    }
   ],
   "source": [
    "# Utilizando o modelo otimizado\n",
    "\n",
    "# Treinando o modelo\n",
    "## Importei todos os dados porém não pretendo usar tudo. Por isso, criei uma coluna de ano para alterar o periodo utilizado o quanto\n",
    "## que isso mellhorou a na acuracidade do modelo\n",
    "\n",
    "df_brent_prophet['year'] = df_brent_prophet['ds'].dt.year\n",
    "\n",
    "df_prophet_model = Prophet(\n",
    "    changepoint_prior_scale=0.5,\n",
    "    seasonality_prior_scale=0.01,\n",
    "    n_changepoints=50\n",
    ")\n",
    "df_prophet_model.fit(df_brent_prophet.query('year >=' + str(year) + 'and year < 2025'))\n",
    "\n",
    "# Criando Forecast\n",
    "## Ao criar a predição com o modelo, escolhi apenas as colunas de 'yhat' (predição), 'yhat_lower' (Menor valor do intervalo de predição) e 'yhat_upper' (Maior valor do\n",
    "## intervalo de predição)\n",
    "\n",
    "df_brent_forecast = df_prophet_model.predict(df_prophet_model.make_future_dataframe(periods=90))\n",
    "df_brent_forecast = df_brent_forecast[['ds', 'yhat', 'yhat_lower', 'yhat_upper']]\n",
    "df_brent_forecast['year'] = df_brent_forecast['ds'].dt.year\n",
    "\n",
    "df_brent_forecast_25 = df_brent_forecast.query('year >= 2025')\n",
    "df_brent_forecast_25 = df_brent_forecast_25.drop(columns=['yhat_lower','yhat_upper'])\n",
    "\n",
    "df_brent_forecast_25 = df_brent.merge(\n",
    "    df_brent_forecast_25,\n",
    "    left_on='Data',\n",
    "    right_on='ds',\n",
    "    how='inner'\n",
    ")\n",
    "\n",
    "# Removendo as colunas que não são mais necessárias\n",
    "df_brent_forecast_25.drop(columns=['ds'], inplace=True)\n",
    "\n",
    "# Supondo que df_brent_forecast_25 já esteja carregado\n",
    "y_true = df_brent_forecast_25[\"Preço Brent FOB (US$/barril)_Corrigido\"]\n",
    "y_pred = df_brent_forecast_25[\"yhat\"]\n",
    "\n",
    "# Calculando WMAPE\n",
    "wmape = np.sum(np.abs(y_true - y_pred)) / np.sum(y_true)\n",
    "\n",
    "# Exibindo os resultados\n",
    "\n",
    "print(f\"WMAPE: {wmape:.4%}\")"
   ]
  },
  {
   "cell_type": "code",
   "execution_count": 49,
   "id": "9981b99b",
   "metadata": {},
   "outputs": [
    {
     "data": {
      "text/html": [
       "<div>\n",
       "<style scoped>\n",
       "    .dataframe tbody tr th:only-of-type {\n",
       "        vertical-align: middle;\n",
       "    }\n",
       "\n",
       "    .dataframe tbody tr th {\n",
       "        vertical-align: top;\n",
       "    }\n",
       "\n",
       "    .dataframe thead th {\n",
       "        text-align: right;\n",
       "    }\n",
       "</style>\n",
       "<table border=\"1\" class=\"dataframe\">\n",
       "  <thead>\n",
       "    <tr style=\"text-align: right;\">\n",
       "      <th></th>\n",
       "      <th>Data</th>\n",
       "      <th>Preço Brent FOB (US$/barril)_Corrigido</th>\n",
       "      <th>yhat</th>\n",
       "      <th>year</th>\n",
       "    </tr>\n",
       "  </thead>\n",
       "  <tbody>\n",
       "    <tr>\n",
       "      <th>0</th>\n",
       "      <td>2025-03-31</td>\n",
       "      <td>77.23</td>\n",
       "      <td>76.112125</td>\n",
       "      <td>2025</td>\n",
       "    </tr>\n",
       "    <tr>\n",
       "      <th>1</th>\n",
       "      <td>2025-03-28</td>\n",
       "      <td>74.69</td>\n",
       "      <td>75.468713</td>\n",
       "      <td>2025</td>\n",
       "    </tr>\n",
       "    <tr>\n",
       "      <th>2</th>\n",
       "      <td>2025-03-27</td>\n",
       "      <td>74.72</td>\n",
       "      <td>74.951481</td>\n",
       "      <td>2025</td>\n",
       "    </tr>\n",
       "    <tr>\n",
       "      <th>3</th>\n",
       "      <td>2025-03-26</td>\n",
       "      <td>74.60</td>\n",
       "      <td>74.652007</td>\n",
       "      <td>2025</td>\n",
       "    </tr>\n",
       "    <tr>\n",
       "      <th>4</th>\n",
       "      <td>2025-03-25</td>\n",
       "      <td>73.78</td>\n",
       "      <td>74.708249</td>\n",
       "      <td>2025</td>\n",
       "    </tr>\n",
       "    <tr>\n",
       "      <th>...</th>\n",
       "      <td>...</td>\n",
       "      <td>...</td>\n",
       "      <td>...</td>\n",
       "      <td>...</td>\n",
       "    </tr>\n",
       "    <tr>\n",
       "      <th>58</th>\n",
       "      <td>2025-01-08</td>\n",
       "      <td>77.37</td>\n",
       "      <td>74.358220</td>\n",
       "      <td>2025</td>\n",
       "    </tr>\n",
       "    <tr>\n",
       "      <th>59</th>\n",
       "      <td>2025-01-07</td>\n",
       "      <td>77.84</td>\n",
       "      <td>74.402356</td>\n",
       "      <td>2025</td>\n",
       "    </tr>\n",
       "    <tr>\n",
       "      <th>60</th>\n",
       "      <td>2025-01-06</td>\n",
       "      <td>77.27</td>\n",
       "      <td>74.373579</td>\n",
       "      <td>2025</td>\n",
       "    </tr>\n",
       "    <tr>\n",
       "      <th>61</th>\n",
       "      <td>2025-01-03</td>\n",
       "      <td>76.72</td>\n",
       "      <td>74.182682</td>\n",
       "      <td>2025</td>\n",
       "    </tr>\n",
       "    <tr>\n",
       "      <th>62</th>\n",
       "      <td>2025-01-02</td>\n",
       "      <td>76.14</td>\n",
       "      <td>73.816249</td>\n",
       "      <td>2025</td>\n",
       "    </tr>\n",
       "  </tbody>\n",
       "</table>\n",
       "<p>63 rows × 4 columns</p>\n",
       "</div>"
      ],
      "text/plain": [
       "         Data  Preço Brent FOB (US$/barril)_Corrigido       yhat  year\n",
       "0  2025-03-31                                   77.23  76.112125  2025\n",
       "1  2025-03-28                                   74.69  75.468713  2025\n",
       "2  2025-03-27                                   74.72  74.951481  2025\n",
       "3  2025-03-26                                   74.60  74.652007  2025\n",
       "4  2025-03-25                                   73.78  74.708249  2025\n",
       "..        ...                                     ...        ...   ...\n",
       "58 2025-01-08                                   77.37  74.358220  2025\n",
       "59 2025-01-07                                   77.84  74.402356  2025\n",
       "60 2025-01-06                                   77.27  74.373579  2025\n",
       "61 2025-01-03                                   76.72  74.182682  2025\n",
       "62 2025-01-02                                   76.14  73.816249  2025\n",
       "\n",
       "[63 rows x 4 columns]"
      ]
     },
     "execution_count": 49,
     "metadata": {},
     "output_type": "execute_result"
    }
   ],
   "source": [
    "df_brent_forecast_25"
   ]
  },
  {
   "cell_type": "code",
   "execution_count": 53,
   "id": "2a9e0dec",
   "metadata": {},
   "outputs": [
    {
     "data": {
      "image/png": "[encoded data removed]",
      "text/plain": [
       "<Figure size 1200x600 with 1 Axes>"
      ]
     },
     "metadata": {},
     "output_type": "display_data"
    }
   ],
   "source": [
    "# Plotando o gráfico com os dados do brent e a previsão\n",
    "\n",
    "# Ordene o DataFrame pela coluna 'Data' para garantir a sequência correta no gráfico\n",
    "df_brent_forecast_25.sort_values('Data', inplace=True)\n",
    "\n",
    "# Criação do gráfico\n",
    "plt.figure(figsize=(12, 6))\n",
    "plt.plot(df_brent_forecast_25['Data'], \n",
    "         df_brent_forecast_25[\"Preço Brent FOB (US$/barril)_Corrigido\"], \n",
    "         label='Preço Real', color='blue')\n",
    "plt.plot(df_brent_forecast_25['Data'], \n",
    "         df_brent_forecast_25['yhat'], \n",
    "         label='Previsão (yhat)', color='red', linestyle='--')\n",
    "\n",
    "plt.xlabel('Data')\n",
    "plt.ylabel('Preço (US$/barril)')\n",
    "plt.title('Comparação entre Preço Real e Previsão do Modelo')\n",
    "plt.legend()\n",
    "plt.grid(True)\n",
    "plt.show()"
   ]
  },
  {
   "cell_type": "code",
   "execution_count": null,
   "id": "c0748155",
   "metadata": {},
   "outputs": [],
   "source": []
  },
  {
   "cell_type": "code",
   "execution_count": null,
   "id": "86cb5f6b",
   "metadata": {},
   "outputs": [],
   "source": []
  },
  {
   "cell_type": "code",
   "execution_count": null,
   "id": "943b2fc5",
   "metadata": {},
   "outputs": [],
   "source": []
  }
 ],
 "metadata": {
  "kernelspec": {
   "display_name": "Python 3",
   "language": "python",
   "name": "python3"
  },
  "language_info": {
   "codemirror_mode": {
    "name": "ipython",
    "version": 3
   },
   "file_extension": ".py",
   "mimetype": "text/x-python",
   "name": "python",
   "nbconvert_exporter": "python",
   "pygments_lexer": "ipython3",
   "version": "3.12.5"
  }
 },
 "nbformat": 4,
 "nbformat_minor": 5
}
